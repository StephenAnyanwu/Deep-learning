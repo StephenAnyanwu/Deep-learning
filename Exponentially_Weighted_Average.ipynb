{
 "cells": [
  {
   "cell_type": "markdown",
   "id": "b2947aa0",
   "metadata": {},
   "source": [
    "Exponentially Weighted Average (EWA) or Exponentially Moving Average is a type of moving average that assigns weight to observed data. As the data is more from the past, its weight for the calculation will decrease exponentially.  It is behind the scenes of many optimization algorithms in deep learning, including Gradient Descent with Momentum, RMSprop, Adam, etc."
   ]
  },
  {
   "cell_type": "markdown",
   "id": "ece1280c",
   "metadata": {},
   "source": [
    "$\\text{Exponentially weighted average:}$<p>\n",
    "$\\quad\\quad\\quad V_t=\\beta .V_{t-1}+(1-\\beta).{\\theta}_t$<p>\n",
    "$\\text{Define:}$<p>\n",
    "$\\quad\\quad\\quad V_t=\\text{EWA for day t (Set }V_0=0)$ <p>\n",
    "$\\quad\\quad\\quad {\\theta}_t= \\text{Temperature for day t}$<p>  \n",
    "$\\quad\\quad\\quad\\beta =\\text{Weight parameter [0,1]}$<p>\n",
    "<p>\n",
    "$V_t=\n",
    "\\begin{cases}\n",
    "0 & \\quad t=0\\\\\n",
    "\\beta .V_{t-1}+(1-\\beta).{\\theta}_t & \\quad t>0\n",
    "\\end{cases}\n",
    "$<p>\n",
    "Let's build an intuition of what this equation is all about.<p>\n",
    "$V_0=0$<p>$V_1=\\beta V_0+(1-\\beta)\\theta_1\\quad=(1-\\beta)\\theta_1$<p> \n",
    "$V_2=\\beta V_1+(1-\\beta)\\theta_2\\quad=\\beta(1-\\beta)\\theta_1+(1+\\beta)\\theta_2\\quad=(1+\\beta)(\\beta\\theta_1+\\theta_2)$<p> \n",
    "$V_3=\\beta V_2+(1-\\beta)\\theta_3\\quad=\\beta((1-\\beta)(\\beta\\theta_1+\\theta_2))+(1-\\beta)\\theta_3\\quad=(1-\\beta)(\\beta^2\\theta_1+\\beta\\theta_2+\\theta_3)$<p>\n",
    "$V_4=\\beta V_3+(1-\\beta)\\theta_4\\quad=\\beta((1-\\beta)(\\beta^2\\theta_1+\\beta\\theta_2+\\theta_3))+(1+\\beta)\\theta_4\\quad=(1-\\beta)(\\beta^3\\theta_1+\\beta^2\\theta_2+\\beta\\theta_3+\\theta_4)$<p>\n",
    "$\\vdots$<p>\n",
    "$V_t=\\beta V_{t-1}+(1-\\beta)\\theta_t\\quad=(1-\\beta)(\\beta^{t-1}\\theta_{1}+\\beta^{t-2}\\theta_2+\\beta^{t-3}\\theta_3+...+\\beta^{t-t}\\theta_t)$"
   ]
  },
  {
   "cell_type": "markdown",
   "id": "9ad6679c",
   "metadata": {},
   "source": [
    "\n",
    "We can see older observations are given lower weights. The weights fall exponentially as the data point gets older hence the name exponentially weighted.<p>                             \n",
    "$V_t$ is approximately averaging over $\\frac{1}{1-\\beta}$ days temperature.<p>\n",
    "If $\\beta =0.9;\\ \\text{No. of days}=\\frac{1}{1-0.9}=10$<p>\n",
    "If $\\beta =0.5;\\ \\text{No. of days}=\\frac{1}{1-0.5}=2$<p>"
   ]
  },
  {
   "cell_type": "markdown",
   "id": "96509f80",
   "metadata": {},
   "source": [
    "In a vectorized form:<p>\n",
    "$V_t=[1-\\beta]*[\\beta^{t-1}\\ \\beta^{t-2}\\ \\beta^{t-3}...\\ \\beta^{t-t}]\\odot[\\theta_1\\ \\theta_2\\ \\theta_3\\ ...\\ \\theta_t]$"
   ]
  },
  {
   "cell_type": "markdown",
   "id": "418e5448",
   "metadata": {},
   "source": [
    "We can rewrite the equation in a reversed order:<p>\n",
    "$V_t=(1-\\beta)(\\theta_t+\\beta\\theta_{t-1}+\\beta^2\\theta_{t-2}+...+\\beta^{t-3}\\theta_3+\\beta^{t-2}\\theta_2+\\beta^{t-1}\\theta_1)$<p>\n",
    "The closed formula:<p>\n",
    "$V_t=(1-\\beta)\\displaystyle\\sum_{k=1}^t{\\beta^{t-k}\\theta_k}$"
   ]
  },
  {
   "cell_type": "code",
   "execution_count": 2,
   "id": "e708f681",
   "metadata": {},
   "outputs": [],
   "source": [
    "import pandas as pd\n",
    "import numpy as np\n",
    "from sympy import *\n",
    "import matplotlib.pyplot as plt\n",
    "%matplotlib inline"
   ]
  },
  {
   "cell_type": "code",
   "execution_count": 3,
   "id": "4fb229b2",
   "metadata": {},
   "outputs": [
    {
     "data": {
      "text/html": [
       "<div>\n",
       "<style scoped>\n",
       "    .dataframe tbody tr th:only-of-type {\n",
       "        vertical-align: middle;\n",
       "    }\n",
       "\n",
       "    .dataframe tbody tr th {\n",
       "        vertical-align: top;\n",
       "    }\n",
       "\n",
       "    .dataframe thead th {\n",
       "        text-align: right;\n",
       "    }\n",
       "</style>\n",
       "<table border=\"1\" class=\"dataframe\">\n",
       "  <thead>\n",
       "    <tr style=\"text-align: right;\">\n",
       "      <th></th>\n",
       "      <th>Region</th>\n",
       "      <th>Country</th>\n",
       "      <th>State</th>\n",
       "      <th>City</th>\n",
       "      <th>Month</th>\n",
       "      <th>Day</th>\n",
       "      <th>Year</th>\n",
       "      <th>AvgTemperature</th>\n",
       "    </tr>\n",
       "  </thead>\n",
       "  <tbody>\n",
       "    <tr>\n",
       "      <th>0</th>\n",
       "      <td>Africa</td>\n",
       "      <td>Algeria</td>\n",
       "      <td>NaN</td>\n",
       "      <td>Algiers</td>\n",
       "      <td>1</td>\n",
       "      <td>1</td>\n",
       "      <td>1995</td>\n",
       "      <td>64.2</td>\n",
       "    </tr>\n",
       "    <tr>\n",
       "      <th>1</th>\n",
       "      <td>Africa</td>\n",
       "      <td>Algeria</td>\n",
       "      <td>NaN</td>\n",
       "      <td>Algiers</td>\n",
       "      <td>1</td>\n",
       "      <td>2</td>\n",
       "      <td>1995</td>\n",
       "      <td>49.4</td>\n",
       "    </tr>\n",
       "    <tr>\n",
       "      <th>2</th>\n",
       "      <td>Africa</td>\n",
       "      <td>Algeria</td>\n",
       "      <td>NaN</td>\n",
       "      <td>Algiers</td>\n",
       "      <td>1</td>\n",
       "      <td>3</td>\n",
       "      <td>1995</td>\n",
       "      <td>48.8</td>\n",
       "    </tr>\n",
       "    <tr>\n",
       "      <th>3</th>\n",
       "      <td>Africa</td>\n",
       "      <td>Algeria</td>\n",
       "      <td>NaN</td>\n",
       "      <td>Algiers</td>\n",
       "      <td>1</td>\n",
       "      <td>4</td>\n",
       "      <td>1995</td>\n",
       "      <td>46.4</td>\n",
       "    </tr>\n",
       "    <tr>\n",
       "      <th>4</th>\n",
       "      <td>Africa</td>\n",
       "      <td>Algeria</td>\n",
       "      <td>NaN</td>\n",
       "      <td>Algiers</td>\n",
       "      <td>1</td>\n",
       "      <td>5</td>\n",
       "      <td>1995</td>\n",
       "      <td>47.9</td>\n",
       "    </tr>\n",
       "  </tbody>\n",
       "</table>\n",
       "</div>"
      ],
      "text/plain": [
       "   Region  Country State     City  Month  Day  Year  AvgTemperature\n",
       "0  Africa  Algeria   NaN  Algiers      1    1  1995            64.2\n",
       "1  Africa  Algeria   NaN  Algiers      1    2  1995            49.4\n",
       "2  Africa  Algeria   NaN  Algiers      1    3  1995            48.8\n",
       "3  Africa  Algeria   NaN  Algiers      1    4  1995            46.4\n",
       "4  Africa  Algeria   NaN  Algiers      1    5  1995            47.9"
      ]
     },
     "execution_count": 3,
     "metadata": {},
     "output_type": "execute_result"
    }
   ],
   "source": [
    "dfw=pd.read_csv(\"Pictures/city_temperature.csv\", low_memory=False)\n",
    "dfw.head()"
   ]
  },
  {
   "cell_type": "code",
   "execution_count": 4,
   "id": "4c92d42d",
   "metadata": {},
   "outputs": [
    {
     "name": "stdout",
     "output_type": "stream",
     "text": [
      "<class 'pandas.core.frame.DataFrame'>\n",
      "RangeIndex: 2906327 entries, 0 to 2906326\n",
      "Data columns (total 8 columns):\n",
      " #   Column          Dtype  \n",
      "---  ------          -----  \n",
      " 0   Region          object \n",
      " 1   Country         object \n",
      " 2   State           object \n",
      " 3   City            object \n",
      " 4   Month           int64  \n",
      " 5   Day             int64  \n",
      " 6   Year            int64  \n",
      " 7   AvgTemperature  float64\n",
      "dtypes: float64(1), int64(3), object(4)\n",
      "memory usage: 177.4+ MB\n"
     ]
    }
   ],
   "source": [
    "dfw.info()"
   ]
  },
  {
   "cell_type": "code",
   "execution_count": 5,
   "id": "b1d3c1c8",
   "metadata": {},
   "outputs": [
    {
     "data": {
      "text/plain": [
       "Region                  0\n",
       "Country                 0\n",
       "State             1450990\n",
       "City                    0\n",
       "Month                   0\n",
       "Day                     0\n",
       "Year                    0\n",
       "AvgTemperature          0\n",
       "dtype: int64"
      ]
     },
     "execution_count": 5,
     "metadata": {},
     "output_type": "execute_result"
    }
   ],
   "source": [
    "dfw.isnull().sum()"
   ]
  },
  {
   "cell_type": "code",
   "execution_count": 6,
   "id": "64971c70",
   "metadata": {},
   "outputs": [
    {
     "data": {
      "text/html": [
       "<div>\n",
       "<style scoped>\n",
       "    .dataframe tbody tr th:only-of-type {\n",
       "        vertical-align: middle;\n",
       "    }\n",
       "\n",
       "    .dataframe tbody tr th {\n",
       "        vertical-align: top;\n",
       "    }\n",
       "\n",
       "    .dataframe thead th {\n",
       "        text-align: right;\n",
       "    }\n",
       "</style>\n",
       "<table border=\"1\" class=\"dataframe\">\n",
       "  <thead>\n",
       "    <tr style=\"text-align: right;\">\n",
       "      <th></th>\n",
       "      <th>Day</th>\n",
       "      <th>AvgTemperature</th>\n",
       "    </tr>\n",
       "  </thead>\n",
       "  <tbody>\n",
       "    <tr>\n",
       "      <th>0</th>\n",
       "      <td>1</td>\n",
       "      <td>64.2</td>\n",
       "    </tr>\n",
       "    <tr>\n",
       "      <th>1</th>\n",
       "      <td>2</td>\n",
       "      <td>49.4</td>\n",
       "    </tr>\n",
       "    <tr>\n",
       "      <th>2</th>\n",
       "      <td>3</td>\n",
       "      <td>48.8</td>\n",
       "    </tr>\n",
       "    <tr>\n",
       "      <th>3</th>\n",
       "      <td>4</td>\n",
       "      <td>46.4</td>\n",
       "    </tr>\n",
       "    <tr>\n",
       "      <th>4</th>\n",
       "      <td>5</td>\n",
       "      <td>47.9</td>\n",
       "    </tr>\n",
       "  </tbody>\n",
       "</table>\n",
       "</div>"
      ],
      "text/plain": [
       "   Day  AvgTemperature\n",
       "0    1            64.2\n",
       "1    2            49.4\n",
       "2    3            48.8\n",
       "3    4            46.4\n",
       "4    5            47.9"
      ]
     },
     "execution_count": 6,
     "metadata": {},
     "output_type": "execute_result"
    }
   ],
   "source": [
    "Alg=dfw.loc[dfw[\"Country\"]==\"Algeria\"].loc[dfw[\"City\"]==\"Algiers\"]\n",
    "Alg[\"Day\"]=[i+1 for i in range(len(Alg.index))]\n",
    "Alg=Alg[[\"Day\", \"AvgTemperature\"]]\n",
    "Alg.head()"
   ]
  },
  {
   "cell_type": "code",
   "execution_count": 7,
   "id": "2323a12e",
   "metadata": {},
   "outputs": [
    {
     "data": {
      "text/html": [
       "<div>\n",
       "<style scoped>\n",
       "    .dataframe tbody tr th:only-of-type {\n",
       "        vertical-align: middle;\n",
       "    }\n",
       "\n",
       "    .dataframe tbody tr th {\n",
       "        vertical-align: top;\n",
       "    }\n",
       "\n",
       "    .dataframe thead th {\n",
       "        text-align: right;\n",
       "    }\n",
       "</style>\n",
       "<table border=\"1\" class=\"dataframe\">\n",
       "  <thead>\n",
       "    <tr style=\"text-align: right;\">\n",
       "      <th></th>\n",
       "      <th>AvgTemperature</th>\n",
       "    </tr>\n",
       "    <tr>\n",
       "      <th>Day</th>\n",
       "      <th></th>\n",
       "    </tr>\n",
       "  </thead>\n",
       "  <tbody>\n",
       "    <tr>\n",
       "      <th>1</th>\n",
       "      <td>64.2</td>\n",
       "    </tr>\n",
       "    <tr>\n",
       "      <th>2</th>\n",
       "      <td>49.4</td>\n",
       "    </tr>\n",
       "    <tr>\n",
       "      <th>3</th>\n",
       "      <td>48.8</td>\n",
       "    </tr>\n",
       "    <tr>\n",
       "      <th>4</th>\n",
       "      <td>46.4</td>\n",
       "    </tr>\n",
       "    <tr>\n",
       "      <th>5</th>\n",
       "      <td>47.9</td>\n",
       "    </tr>\n",
       "  </tbody>\n",
       "</table>\n",
       "</div>"
      ],
      "text/plain": [
       "     AvgTemperature\n",
       "Day                \n",
       "1              64.2\n",
       "2              49.4\n",
       "3              48.8\n",
       "4              46.4\n",
       "5              47.9"
      ]
     },
     "execution_count": 7,
     "metadata": {},
     "output_type": "execute_result"
    }
   ],
   "source": [
    "df=Alg.set_index(\"Day\")\n",
    "df.head()"
   ]
  },
  {
   "cell_type": "code",
   "execution_count": 8,
   "id": "469a8b35",
   "metadata": {},
   "outputs": [],
   "source": [
    "#Use first 200 examples of the dataset\n",
    "df=df.iloc[0:200]\n"
   ]
  },
  {
   "cell_type": "code",
   "execution_count": 9,
   "id": "0d9593d6",
   "metadata": {},
   "outputs": [
    {
     "data": {
      "text/plain": [
       "[<matplotlib.lines.Line2D at 0x1ad1f138b80>]"
      ]
     },
     "execution_count": 9,
     "metadata": {},
     "output_type": "execute_result"
    },
    {
     "data": {
      "image/png": "[encoded data removed]",
      "text/plain": [
       "<Figure size 576x432 with 1 Axes>"
      ]
     },
     "metadata": {
      "needs_background": "light"
     },
     "output_type": "display_data"
    }
   ],
   "source": [
    "plt.figure(figsize=(8,6))\n",
    "plt.xlabel(\"Day\")\n",
    "plt.ylabel(\"Average Temperature\")\n",
    "plt.title(\"Daily Average Temperature\")\n",
    "plt.plot(df.index, df.AvgTemperature)\n"
   ]
  },
  {
   "cell_type": "code",
   "execution_count": 10,
   "id": "ce0acb3b",
   "metadata": {},
   "outputs": [],
   "source": [
    "theta=df.AvgTemperature.to_numpy()\n",
    "EWA_1=[]\n",
    "EWA_2=[]\n",
    "EWA_3=[]\n",
    "V_t1=0\n",
    "V_t2=0\n",
    "V_t3=0\n",
    "beta_1=0.96\n",
    "beta_2=0.9\n",
    "beta_3=0.6\n",
    "t=1\n",
    "for i in range(len(theta)):\n",
    "    V_t1=beta_1*V_t1+(1-beta_1)*theta[i]\n",
    "    EWA_1.append(V_t1)\n",
    "    V_t2=beta_2*V_t2+(1-beta_2)*theta[i]\n",
    "    EWA_2.append(V_t2)\n",
    "    V_t3=beta_3*V_t3+(1-beta_3)*theta[i]\n",
    "    EWA_3.append(V_t3)\n",
    "    t+=1\n"
   ]
  },
  {
   "cell_type": "code",
   "execution_count": 11,
   "id": "9ac6308c",
   "metadata": {},
   "outputs": [
    {
     "data": {
      "text/html": [
       "<div>\n",
       "<style scoped>\n",
       "    .dataframe tbody tr th:only-of-type {\n",
       "        vertical-align: middle;\n",
       "    }\n",
       "\n",
       "    .dataframe tbody tr th {\n",
       "        vertical-align: top;\n",
       "    }\n",
       "\n",
       "    .dataframe thead th {\n",
       "        text-align: right;\n",
       "    }\n",
       "</style>\n",
       "<table border=\"1\" class=\"dataframe\">\n",
       "  <thead>\n",
       "    <tr style=\"text-align: right;\">\n",
       "      <th></th>\n",
       "      <th>AvgTemperature</th>\n",
       "      <th>EWA(0.96)</th>\n",
       "      <th>EWA(0.9)</th>\n",
       "      <th>EWA(0.6)</th>\n",
       "    </tr>\n",
       "    <tr>\n",
       "      <th>Day</th>\n",
       "      <th></th>\n",
       "      <th></th>\n",
       "      <th></th>\n",
       "      <th></th>\n",
       "    </tr>\n",
       "  </thead>\n",
       "  <tbody>\n",
       "    <tr>\n",
       "      <th>1</th>\n",
       "      <td>64.2</td>\n",
       "      <td>2.568000</td>\n",
       "      <td>6.420000</td>\n",
       "      <td>25.680000</td>\n",
       "    </tr>\n",
       "    <tr>\n",
       "      <th>2</th>\n",
       "      <td>49.4</td>\n",
       "      <td>4.441280</td>\n",
       "      <td>10.718000</td>\n",
       "      <td>35.168000</td>\n",
       "    </tr>\n",
       "    <tr>\n",
       "      <th>3</th>\n",
       "      <td>48.8</td>\n",
       "      <td>6.215629</td>\n",
       "      <td>14.526200</td>\n",
       "      <td>40.620800</td>\n",
       "    </tr>\n",
       "    <tr>\n",
       "      <th>4</th>\n",
       "      <td>46.4</td>\n",
       "      <td>7.823004</td>\n",
       "      <td>17.713580</td>\n",
       "      <td>42.932480</td>\n",
       "    </tr>\n",
       "    <tr>\n",
       "      <th>5</th>\n",
       "      <td>47.9</td>\n",
       "      <td>9.426084</td>\n",
       "      <td>20.732222</td>\n",
       "      <td>44.919488</td>\n",
       "    </tr>\n",
       "    <tr>\n",
       "      <th>6</th>\n",
       "      <td>48.7</td>\n",
       "      <td>10.997040</td>\n",
       "      <td>23.529000</td>\n",
       "      <td>46.431693</td>\n",
       "    </tr>\n",
       "    <tr>\n",
       "      <th>7</th>\n",
       "      <td>48.9</td>\n",
       "      <td>12.513159</td>\n",
       "      <td>26.066100</td>\n",
       "      <td>47.419016</td>\n",
       "    </tr>\n",
       "    <tr>\n",
       "      <th>8</th>\n",
       "      <td>49.1</td>\n",
       "      <td>13.976632</td>\n",
       "      <td>28.369490</td>\n",
       "      <td>48.091409</td>\n",
       "    </tr>\n",
       "    <tr>\n",
       "      <th>9</th>\n",
       "      <td>49.0</td>\n",
       "      <td>15.377567</td>\n",
       "      <td>30.432541</td>\n",
       "      <td>48.454846</td>\n",
       "    </tr>\n",
       "    <tr>\n",
       "      <th>10</th>\n",
       "      <td>51.9</td>\n",
       "      <td>16.838464</td>\n",
       "      <td>32.579287</td>\n",
       "      <td>49.832907</td>\n",
       "    </tr>\n",
       "  </tbody>\n",
       "</table>\n",
       "</div>"
      ],
      "text/plain": [
       "     AvgTemperature  EWA(0.96)   EWA(0.9)   EWA(0.6)\n",
       "Day                                                 \n",
       "1              64.2   2.568000   6.420000  25.680000\n",
       "2              49.4   4.441280  10.718000  35.168000\n",
       "3              48.8   6.215629  14.526200  40.620800\n",
       "4              46.4   7.823004  17.713580  42.932480\n",
       "5              47.9   9.426084  20.732222  44.919488\n",
       "6              48.7  10.997040  23.529000  46.431693\n",
       "7              48.9  12.513159  26.066100  47.419016\n",
       "8              49.1  13.976632  28.369490  48.091409\n",
       "9              49.0  15.377567  30.432541  48.454846\n",
       "10             51.9  16.838464  32.579287  49.832907"
      ]
     },
     "execution_count": 11,
     "metadata": {},
     "output_type": "execute_result"
    }
   ],
   "source": [
    "#Add columns of EWAs with 0.96, 0.9 and 0.6 weight parameters to the dataframe\n",
    "df[\"EWA(0.96)\"]=EWA_1\n",
    "df[\"EWA(0.9)\"]=EWA_2\n",
    "df[\"EWA(0.6)\"]=EWA_3\n",
    "df.head(10)"
   ]
  },
  {
   "cell_type": "code",
   "execution_count": 12,
   "id": "fe13a9a0",
   "metadata": {},
   "outputs": [],
   "source": [
    "eq1=latex(Eq(symbols(\"beta\"),beta_1))\n",
    "eq2=latex(Eq(symbols(\"beta\"),beta_2))\n",
    "eq3=latex(Eq(symbols(\"beta\"),beta_3))"
   ]
  },
  {
   "cell_type": "code",
   "execution_count": 13,
   "id": "0b9aa19d",
   "metadata": {},
   "outputs": [
    {
     "data": {
      "image/png": "[encoded data removed]",
      "text/plain": [
       "<Figure size 576x432 with 1 Axes>"
      ]
     },
     "metadata": {
      "needs_background": "light"
     },
     "output_type": "display_data"
    }
   ],
   "source": [
    "plt.figure(figsize=(8,6))\n",
    "plt.xlabel(\"Day\")\n",
    "plt.ylabel(\"Average Temperature\")\n",
    "plt.title(\"Daily Average Temperature\")\n",
    "plt.plot(df.index, df.AvgTemperature, label=\"AvgTemperature\")\n",
    "plt.plot(df.index, EWA_1, color=\"green\", label=f\"${eq1}$\")\n",
    "plt.plot(df.index, EWA_2, color=\"purple\", label=f\"${eq2}$\")\n",
    "plt.plot(df.index, EWA_3, color=\"red\", label=f\"${eq3}$\")\n",
    "plt.legend()\n",
    "plt.show()\n"
   ]
  },
  {
   "cell_type": "markdown",
   "id": "d7b8f61f",
   "metadata": {},
   "source": [
    "The higher the value of the weight parameter $\\beta$, the smoother the EWA line."
   ]
  },
  {
   "cell_type": "markdown",
   "id": "f94d3ace",
   "metadata": {},
   "source": [
    "### EWA Bias Correction"
   ]
  },
  {
   "cell_type": "markdown",
   "id": "3ec83202",
   "metadata": {},
   "source": [
    "$$V_t\\leftarrow\\frac{V_t}{1-\\beta^t}$$"
   ]
  },
  {
   "cell_type": "markdown",
   "id": "a35e9c3f",
   "metadata": {},
   "source": [
    "We initialized $V_0=0$<p>\n",
    "So $V_2=\\beta V_0+(1-\\beta)\\theta_2=(1-\\beta)\\theta_2$<p>\n",
    "$V_2$ will be very low which is not a good estimate of the first data point.<p>\n",
    "We use bias correction to fix this.<p>\n",
    "$$V_2=\\frac{\\beta V_0+(1-\\beta)\\theta_2}{1-\\beta^2}$$<p>\n",
    "When $t$ becomes large $1-\\beta^t$ approaches 1 thus, the bias correction disappears. We use bias correction to obtain the better estimate at the initial phase and it automatically correct itself as $t$ becomes large, that is, as we perform more iterations. It is not oftenly use but if concerned about bias during initial phase while EWA is still warming up, then bias correction could help get a better estimate early on.\n",
    "    "
   ]
  },
  {
   "cell_type": "code",
   "execution_count": 14,
   "id": "d3357e76",
   "metadata": {},
   "outputs": [],
   "source": [
    "theta=df.AvgTemperature.to_numpy()\n",
    "V_t_corrected=0\n",
    "beta_2=0.9\n",
    "EWA_2_corrected=[]\n",
    "t=1\n",
    "for i in range(len(theta)):\n",
    "    correct=1-(beta_2**t)\n",
    "    V_t=beta_2*V_t_corrected+(1-beta_2)*theta[i]\n",
    "    V_t_corrected=V_t/correct\n",
    "    EWA_2_corrected.append(V_t_corrected)\n",
    "    t+=1\n",
    "df[\"EWA(0.9)_Corrected\"]=EWA_2_corrected \n"
   ]
  },
  {
   "cell_type": "code",
   "execution_count": 15,
   "id": "76900125",
   "metadata": {},
   "outputs": [
    {
     "data": {
      "text/html": [
       "<div>\n",
       "<style scoped>\n",
       "    .dataframe tbody tr th:only-of-type {\n",
       "        vertical-align: middle;\n",
       "    }\n",
       "\n",
       "    .dataframe tbody tr th {\n",
       "        vertical-align: top;\n",
       "    }\n",
       "\n",
       "    .dataframe thead th {\n",
       "        text-align: right;\n",
       "    }\n",
       "</style>\n",
       "<table border=\"1\" class=\"dataframe\">\n",
       "  <thead>\n",
       "    <tr style=\"text-align: right;\">\n",
       "      <th></th>\n",
       "      <th>AvgTemperature</th>\n",
       "      <th>EWA(0.96)</th>\n",
       "      <th>EWA(0.9)</th>\n",
       "      <th>EWA(0.6)</th>\n",
       "      <th>EWA(0.9)_Corrected</th>\n",
       "    </tr>\n",
       "    <tr>\n",
       "      <th>Day</th>\n",
       "      <th></th>\n",
       "      <th></th>\n",
       "      <th></th>\n",
       "      <th></th>\n",
       "      <th></th>\n",
       "    </tr>\n",
       "  </thead>\n",
       "  <tbody>\n",
       "    <tr>\n",
       "      <th>1</th>\n",
       "      <td>64.2</td>\n",
       "      <td>2.568000</td>\n",
       "      <td>6.420000</td>\n",
       "      <td>25.680000</td>\n",
       "      <td>64.200000</td>\n",
       "    </tr>\n",
       "    <tr>\n",
       "      <th>2</th>\n",
       "      <td>49.4</td>\n",
       "      <td>4.441280</td>\n",
       "      <td>10.718000</td>\n",
       "      <td>35.168000</td>\n",
       "      <td>330.105263</td>\n",
       "    </tr>\n",
       "    <tr>\n",
       "      <th>3</th>\n",
       "      <td>48.8</td>\n",
       "      <td>6.215629</td>\n",
       "      <td>14.526200</td>\n",
       "      <td>40.620800</td>\n",
       "      <td>1114.297922</td>\n",
       "    </tr>\n",
       "    <tr>\n",
       "      <th>4</th>\n",
       "      <td>46.4</td>\n",
       "      <td>7.823004</td>\n",
       "      <td>17.713580</td>\n",
       "      <td>42.932480</td>\n",
       "      <td>2929.654346</td>\n",
       "    </tr>\n",
       "    <tr>\n",
       "      <th>5</th>\n",
       "      <td>47.9</td>\n",
       "      <td>9.426084</td>\n",
       "      <td>20.732222</td>\n",
       "      <td>44.919488</td>\n",
       "      <td>6450.340436</td>\n",
       "    </tr>\n",
       "    <tr>\n",
       "      <th>...</th>\n",
       "      <td>...</td>\n",
       "      <td>...</td>\n",
       "      <td>...</td>\n",
       "      <td>...</td>\n",
       "      <td>...</td>\n",
       "    </tr>\n",
       "    <tr>\n",
       "      <th>196</th>\n",
       "      <td>76.5</td>\n",
       "      <td>72.720534</td>\n",
       "      <td>75.267089</td>\n",
       "      <td>76.121937</td>\n",
       "      <td>75.273738</td>\n",
       "    </tr>\n",
       "    <tr>\n",
       "      <th>197</th>\n",
       "      <td>76.4</td>\n",
       "      <td>72.867712</td>\n",
       "      <td>75.380380</td>\n",
       "      <td>76.233162</td>\n",
       "      <td>75.386364</td>\n",
       "    </tr>\n",
       "    <tr>\n",
       "      <th>198</th>\n",
       "      <td>76.6</td>\n",
       "      <td>73.017004</td>\n",
       "      <td>75.502342</td>\n",
       "      <td>76.379897</td>\n",
       "      <td>75.507728</td>\n",
       "    </tr>\n",
       "    <tr>\n",
       "      <th>199</th>\n",
       "      <td>77.7</td>\n",
       "      <td>73.204324</td>\n",
       "      <td>75.722108</td>\n",
       "      <td>76.907938</td>\n",
       "      <td>75.726955</td>\n",
       "    </tr>\n",
       "    <tr>\n",
       "      <th>200</th>\n",
       "      <td>78.3</td>\n",
       "      <td>73.408151</td>\n",
       "      <td>75.979897</td>\n",
       "      <td>77.464763</td>\n",
       "      <td>75.984259</td>\n",
       "    </tr>\n",
       "  </tbody>\n",
       "</table>\n",
       "<p>200 rows × 5 columns</p>\n",
       "</div>"
      ],
      "text/plain": [
       "     AvgTemperature  EWA(0.96)   EWA(0.9)   EWA(0.6)  EWA(0.9)_Corrected\n",
       "Day                                                                     \n",
       "1              64.2   2.568000   6.420000  25.680000           64.200000\n",
       "2              49.4   4.441280  10.718000  35.168000          330.105263\n",
       "3              48.8   6.215629  14.526200  40.620800         1114.297922\n",
       "4              46.4   7.823004  17.713580  42.932480         2929.654346\n",
       "5              47.9   9.426084  20.732222  44.919488         6450.340436\n",
       "..              ...        ...        ...        ...                 ...\n",
       "196            76.5  72.720534  75.267089  76.121937           75.273738\n",
       "197            76.4  72.867712  75.380380  76.233162           75.386364\n",
       "198            76.6  73.017004  75.502342  76.379897           75.507728\n",
       "199            77.7  73.204324  75.722108  76.907938           75.726955\n",
       "200            78.3  73.408151  75.979897  77.464763           75.984259\n",
       "\n",
       "[200 rows x 5 columns]"
      ]
     },
     "execution_count": 15,
     "metadata": {},
     "output_type": "execute_result"
    }
   ],
   "source": [
    "df"
   ]
  },
  {
   "cell_type": "markdown",
   "id": "a571e9b1",
   "metadata": {},
   "source": [
    "From the data frame we can see that EWA(0.9)Corrected gets align with EWA(0.9) as $t$ gets large."
   ]
  }
 ],
 "metadata": {
  "kernelspec": {
   "display_name": "Python 3",
   "language": "python",
   "name": "python3"
  },
  "language_info": {
   "codemirror_mode": {
    "name": "ipython",
    "version": 3
   },
   "file_extension": ".py",
   "mimetype": "text/x-python",
   "name": "python",
   "nbconvert_exporter": "python",
   "pygments_lexer": "ipython3",
   "version": "3.8.8"
  }
 },
 "nbformat": 4,
 "nbformat_minor": 5
}
