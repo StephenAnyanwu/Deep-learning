{
  "cells": [
    {
      "cell_type": "code",
      "execution_count": null,
      "metadata": {
        "id": "qsbjRPa1qhhG"
      },
      "outputs": [],
      "source": [
        "import pandas as pd\n",
        "import numpy as np\n",
        "from sklearn.metrics import classification_report\n",
        "import matplotlib.pyplot as plt\n",
        "import tensorflow as tf\n",
        "from tensorflow import keras\n",
        "%matplotlib inline\n",
        "import seaborn as sns\n",
        "from typing import List\n",
        "import timeit\n",
        "import warnings\n",
        "warnings.filterwarnings(\"ignore\")"
      ]
    },
    {
      "cell_type": "code",
      "execution_count": null,
      "metadata": {
        "id": "N5BEh0Aiqt7A"
      },
      "outputs": [],
      "source": [
        "class activations:\n",
        "    _z = None\n",
        "    _a = None\n",
        "\n",
        "    # Sigmoid activation function\n",
        "    @staticmethod\n",
        "    def sigmoid():\n",
        "        y = 1 / (1 + np.exp(-activations._z))\n",
        "        return y\n",
        "\n",
        "    # Derivative of sigmoid\n",
        "    @staticmethod\n",
        "    def sigmoid_der():\n",
        "        y = activations._a * (1 - activations._a)\n",
        "        return y\n",
        "\n",
        "    # Tanh activation function\n",
        "    @staticmethod\n",
        "    def tanh():\n",
        "        y = (np.exp(activations._z) - np.exp(-activations._z)) / (np.exp(activations._z) + np.exp(-activations._z))\n",
        "        return y\n",
        "\n",
        "    # Derivative of tanh\n",
        "    @staticmethod\n",
        "    def tanh_der():\n",
        "        y = 1 - activations._a ** 2\n",
        "        return y\n",
        "\n",
        "    # Relu activation function\n",
        "    @staticmethod\n",
        "    def relu():\n",
        "        y = np.maximum(0, activations._z)\n",
        "        return y\n",
        "\n",
        "    # derivative of relu\n",
        "    @staticmethod\n",
        "    def relu_der():\n",
        "        activations._a[activations._a <= 0] = 0\n",
        "        activations._a[activations._a > 0] = 1\n",
        "        return activations._a\n",
        "\n",
        "\n",
        "    # Softmax activation function\n",
        "    @staticmethod\n",
        "    def softmax():\n",
        "        y = np.exp(activations._z) / np.sum(np.exp(activations._z), axis=0)\n",
        "        return y\n"
      ]
    },
    {
      "cell_type": "code",
      "execution_count": null,
      "metadata": {
        "id": "a6H-hojwsEJ8"
      },
      "outputs": [],
      "source": [
        "class losses:\n",
        "\n",
        "    @staticmethod\n",
        "    def MeanSquaredError(y_true, y_predict, k):\n",
        "        return (1 / k) * np.sum((y_true - y_predict)**2)\n",
        "\n",
        "    @staticmethod\n",
        "    def MeanSquaredErrorBackProp(y_true, y_predict):\n",
        "        dZ_last = 2*(y_true - y_predict)\n",
        "        return dZ_last\n",
        "\n",
        "    @staticmethod\n",
        "    def BinaryCrossentropy(y_true, y_predict, k):\n",
        "        return (-1) * (1 / k) * (np.sum((y_true * np.log(y_predict + 1e-8)) +\n",
        "                                        ((1 - y_true) * (np.log(1 - y_predict + 1e-8)))))\n",
        "    @staticmethod\n",
        "    def BinaryCrossentropyBackProp(y_true, y_predict):\n",
        "        dZ_last = (y_predict - y_true)\n",
        "        return dZ_last\n",
        "\n",
        "    @staticmethod\n",
        "    def CategoricalCrossentropy(y_true, y_predict, k):\n",
        "        return (-1) * (1 / k) * np.sum((y_true * np.log(y_predict)))\n",
        "\n",
        "    @staticmethod\n",
        "    def CategoricalCrossentropyBackProp(y_true, y_predict):\n",
        "        dZ_last = (y_predict - y_true)\n",
        "        return dZ_last\n"
      ]
    },
    {
      "cell_type": "code",
      "execution_count": null,
      "metadata": {
        "id": "ygEa65q6sMiF"
      },
      "outputs": [],
      "source": [
        "class initializers:\n",
        "    _present_layer_size = None\n",
        "    _previous_layer_size = None\n",
        "\n",
        "    @staticmethod\n",
        "    def Zeros():\n",
        "        W = np.zeros((initializers._present_layer_size, initializers._previous_layer_size))\n",
        "        b = np.zeros((initializers._present_layer_size, 1))\n",
        "        return W, b\n",
        "\n",
        "    @staticmethod\n",
        "    def Ones():\n",
        "        W = np.ones((initializers._present_layer_size, initializers._previous_layer_size))\n",
        "        b = np.ones((initializers._present_layer_size, 1))\n",
        "        return W, b\n",
        "\n",
        "    # Weights initialization for relu\n",
        "    @staticmethod\n",
        "    def He():\n",
        "        np.random.seed(0)\n",
        "        W = np.random.randn(initializers._present_layer_size, initializers._previous_layer_size)*np.sqrt(2/initializers._previous_layer_size)\n",
        "        b = np.zeros((initializers._present_layer_size, 1))\n",
        "        return W, b\n",
        "\n",
        "    # Weights initializtion for sigmoid/tanh\n",
        "    @staticmethod\n",
        "    def Xavier():\n",
        "        np.random.seed(0)\n",
        "        W = np.random.randn(initializers._present_layer_size, initializers._previous_layer_size)*np.sqrt(1/initializers._previous_layer_size)\n",
        "        b = np.zeros((initializers._present_layer_size, 1))\n",
        "        return W, b\n"
      ]
    },
    {
      "cell_type": "code",
      "execution_count": null,
      "metadata": {
        "id": "9h9bWH8QsS8V"
      },
      "outputs": [],
      "source": [
        "class optimizers:\n",
        "    _lr= None\n",
        "    selected_optimizer = None\n",
        "\n",
        "\n",
        "    @staticmethod\n",
        "    def SGD(W, b, dW, db, lr=0.01):\n",
        "        lr_ = 0\n",
        "        if optimizers._lr != None:\n",
        "            lr_ = optimizers._lr\n",
        "        else:\n",
        "            lr_ = lr\n",
        "        for layer in range(1, len(W)+1):\n",
        "            W[\"W_\"+str(layer)] -= lr_ * dW[\"dW_\"+str(layer)]\n",
        "            b[\"b_\"+str(layer)] -= lr_ * db[\"db_\"+str(layer)]\n",
        "        return {\"W\": W, \"b\": b}\n",
        "\n",
        "\n",
        "    @staticmethod\n",
        "    def Momentum(W, b, dW, db, VdW, Vdb, lr=0.01, beta=0.9):\n",
        "        lr_ = 0\n",
        "        if optimizers._lr != None:\n",
        "            lr_ = optimizers._lr\n",
        "        else:\n",
        "            lr_ = lr\n",
        "        for layer in range(1, len(W)+1):\n",
        "            VdW[\"VdW_\"+str(layer)] = beta * VdW[\"VdW_\"+str(layer)] + (1 - beta) * dW[\"dW_\"+str(layer)]\n",
        "            Vdb[\"Vdb_\"+str(layer)] = beta * Vdb[\"Vdb_\"+str(layer)] + (1 - beta) * db[\"db_\"+str(layer)]\n",
        "            W[\"W_\"+str(layer)] -= lr_ * VdW[\"VdW_\"+str(layer)]\n",
        "            b[\"b_\"+str(layer)] -= lr_ * Vdb[\"Vdb_\"+str(layer)]\n",
        "        return {\"W\": W, \"b\": b, \"VdW\": VdW, \"Vdb\": Vdb}\n",
        "\n",
        "    @staticmethod\n",
        "    def NAG(W, b, dW, db, VdW, Vdb, W_present, b_present, dW_future=None, db_future=None, lr=1, beta=0.9, look_ahead=True):\n",
        "        lr_ = 0\n",
        "        if optimizers.lr != None:\n",
        "            lr_ = optimizers._lr\n",
        "        else:\n",
        "            lr_ = lr\n",
        "\n",
        "        W_future = {}\n",
        "        b_future = {}\n",
        "        if look_ahead:\n",
        "            for layer in range(1, len(W)+1):\n",
        "                W_future[\"Wf_\"+str(layer)] = W_present[\"W_\"+str(layer)] - beta * VdW[\"VdW_\"+str(layer)]\n",
        "                b_future[\"bf_\"+str(layer)] = b_present[\"b_\"+str(layer)] - beta * Vdb[\"Vdb_\"+str(layer)]\n",
        "            return {\"W_future\": W_future, \"b_future\": b_future}\n",
        "        else:\n",
        "            for layer in range(1, len(W)+1):\n",
        "                VdW[\"VdW_\"+str(layer)] = beta * VdW[\"VdW_\"+str(layer)] + (1 - beta) * dW_future[\"dW_\"+str(layer)]\n",
        "                Vdb[\"Vdb_\"+str(layer)] = beta * Vdb[\"Vdb_\"+str(layer)] + (1 - beta) * db_future[\"db_\"+str(layer)]\n",
        "                W[\"W_\"+str(layer)] = W_present[\"W_\"+str(layer)] - lr_ * VdW[\"VdW_\"+str(layer)]\n",
        "                b[\"b_\"+str(layer)] = b_present[\"b_\"+str(layer)] - lr_ * Vdb[\"Vdb_\"+str(layer)]\n",
        "            return {\"W\": W, \"b\": b, \"VdW\": VdW, \"Vdb\": Vdb}\n",
        "\n",
        "\n",
        "    @staticmethod\n",
        "    def Adagrad(W, b, dW, db, V_W, V_b, lr_W, lr_b, lr=0.01, fuzz_factor=1e-08):\n",
        "        lr_ = 0\n",
        "        if optimizers._lr != None:\n",
        "            lr_ = optimizers._lr\n",
        "        else:\n",
        "            lr_ = lr\n",
        "        for layer in range(1, len(W)+1):\n",
        "            V_W[\"V_W_\"+str(layer)] = V_W[\"V_W_\"+str(layer)] + dW[\"dW_\"+str(layer)]**2\n",
        "            V_b[\"V_b_\"+str(layer)] = V_b[\"V_b_\"+str(layer)] + db[\"db_\"+str(layer)]**2\n",
        "            lr_W[\"lr_W\"+str(layer)] = lr_ / np.sqrt(V_W[\"V_W_\"+str(layer)] + fuzz_factor)\n",
        "            lr_b[\"lr_b\"+str(layer)] = lr_ / np.sqrt(V_b[\"V_b_\"+str(layer)] + fuzz_factor)\n",
        "            W[\"W_\"+str(layer)] -= lr_W[\"lr_W\"+str(layer)] * dW[\"dW_\"+str(layer)]\n",
        "            b[\"b_\"+str(layer)] -= lr_b[\"lr_b\"+str(layer)] * db[\"db_\"+str(layer)]\n",
        "        return {\"W\": W, \"b\": b, \"V_W\": V_W, \"V_b\": V_b, \"lr_W\": lr_W, \"lr_b\": lr_b}\n",
        "\n",
        "\n",
        "    @staticmethod\n",
        "    def RMSprop(W, b, dW, db, SdW, Sdb, lr_W, lr_b, lr=0.01, beta=0.9, fuzz_factor=1e-08):\n",
        "        lr_ = 0\n",
        "        if optimizers._lr != None:\n",
        "            lr_ = optimizers._lr\n",
        "        else:\n",
        "            lr_ = lr\n",
        "        for layer in range(1, len(W)+1):\n",
        "            SdW[\"SdW_\"+str(layer)] = beta * SdW[\"SdW_\"+str(layer)] + (1 - beta) * dW[\"dW_\"+str(layer)]**2\n",
        "            Sdb[\"Sdb_\"+str(layer)] = beta * Sdb[\"Sdb_\"+str(layer)] + (1 - beta) * db[\"db_\"+str(layer)]**2\n",
        "            lr_W[\"lr_W\"+str(layer)] = lr_ / np.sqrt(SdW[\"SdW_\"+str(layer)] + fuzz_factor)\n",
        "            lr_b[\"lr_b\"+str(layer)] = lr_ / np.sqrt(Sdb[\"Sdb_\"+str(layer)] + fuzz_factor)\n",
        "            W[\"W_\"+str(layer)] -= lr_ * dW[\"dW_\"+str(layer)]\n",
        "            b[\"b_\"+str(layer)] -= lr_ * db[\"db_\"+str(layer)]\n",
        "        return {\"W\": W, \"b\": b, \"SdW\": SdW, \"Sdb\": Sdb, \"lr_W\": lr_W, \"lr_b\": lr_b}\n",
        "\n",
        "\n",
        "    @staticmethod\n",
        "    def Adadelta(W, b, dW, db, W_past, b_past, D_W, D_b, SdW, Sdb, delta_W,  delta_b, lr_W, lr_b, lr=0.01, beta=0.9, fuzz_factor=1e-08):\n",
        "        lr_ = 0\n",
        "        if optimizers._lr != None:\n",
        "            lr_ = optimizers._lr\n",
        "        else:\n",
        "            lr_ = lr\n",
        "        for layer in range(1, len(W)+1):\n",
        "            delta_W[\"delta_W\"+str(layer)] = W[\"W_\"+str(layer)] - W_past[\"W_\"+str(layer)]\n",
        "            delta_b[\"delta_b\"+str(layer)] = b[\"b_\"+str(layer)] - b_past[\"b_\"+str(layer)]\n",
        "            D_W[\"D_W_\"+str(layer)] = beta * D_W[\"D_W_\"+str(layer)] + (1-beta) * delta_W[\"delta_W\"+str(layer)]**2\n",
        "            D_b[\"D_b_\"+str(layer)] = beta * D_b[\"D_b_\"+str(layer)] + (1-beta) * delta_b[\"delta_b\"+str(layer)]**2\n",
        "            SdW[\"SdW_\"+str(layer)] = beta * SdW[\"SdW_\"+str(layer)] + (1 - beta) * dW[\"dW_\"+str(layer)]**2\n",
        "            Sdb[\"Sdb_\"+str(layer)] = beta * Sdb[\"Sdb_\"+str(layer)] + (1 - beta) * db[\"db_\"+str(layer)]**2\n",
        "            lr_W[\"lr_W\"+str(layer)] = np.sqrt(D_W[\"D_W_\"+str(layer)] + fuzz_factor) / np.sqrt(SdW[\"SdW_\"+str(layer)] + fuzz_factor)\n",
        "            lr_b[\"lr_b\"+str(layer)] = np.sqrt(D_b[\"D_b_\"+str(layer)] + fuzz_factor) / np.sqrt(Sdb[\"Sdb_\"+str(layer)] + fuzz_factor)\n",
        "            W[\"W_\"+str(layer)] -= lr_W[\"lr_W\"+str(layer)] * dW[\"dW_\"+str(layer)]\n",
        "            b[\"b_\"+str(layer)] -= lr_b[\"lr_b\"+str(layer)] * db[\"db_\"+str(layer)]\n",
        "        return  {\"W\": W, \"b\": b, \"W_past\": W_past, \"b_past\": b_past, \"D_W\": D_W, \"D_b\": D_b, \"SdW\": SdW, \"Sdb\": Sdb, \"lr_W\": lr_W, \"lr_b\": lr_b}\n",
        "\n",
        "\n",
        "\n",
        "    @staticmethod\n",
        "    def Adam(W, b, dW, db, VdW, Vdb, SdW, Sdb, t, lr=0.001, beta_1=0.9, beta_2=0.999, fuzz_factor=1e-08):\n",
        "        lr_ = 0\n",
        "        if optimizers._lr != None:\n",
        "            lr_ = optimizers._lr\n",
        "        else:\n",
        "            lr_ = lr\n",
        "        for layer in range(1, len(W)+1):\n",
        "            VdW[\"VdW_\"+str(layer)] = beta_1 * VdW[\"VdW_\"+str(layer)] + (1 - beta_1) * dW[\"dW_\"+str(layer)]\n",
        "            Vdb[\"Vdb_\"+str(layer)] = beta_1 * Vdb[\"Vdb_\"+str(layer)] + (1 - beta_1) * db[\"db_\"+str(layer)]\n",
        "            SdW[\"SdW_\"+str(layer)] = beta_2 * SdW[\"SdW_\"+str(layer)] + (1 - beta_2) * dW[\"dW_\"+str(layer)]**2\n",
        "            Sdb[\"Sdb_\"+str(layer)] = beta_2 * Sdb[\"Sdb_\"+str(layer)] + (1 - beta_2) * db[\"db_\"+str(layer)]**2\n",
        "            W[\"W_\"+str(layer)] -= (lr_ / np.sqrt(SdW[\"SdW_\"+str(layer)]  + fuzz_factor)) * VdW[\"VdW_\"+str(layer)]\n",
        "            b[\"b_\"+str(layer)] -= (lr_ / np.sqrt(Sdb[\"Sdb_\"+str(layer)]  + fuzz_factor)) * Vdb[\"Vdb_\"+str(layer)]\n",
        "        return {\"W\": W, \"b\": b, \"VdW\": VdW, \"Vdb\": Vdb, \"SdW\": SdW, \"Sdb\": Sdb}\n",
        "\n",
        "\n"
      ]
    },
    {
      "cell_type": "code",
      "execution_count": null,
      "metadata": {
        "id": "eLGbI_vDsc2X"
      },
      "outputs": [],
      "source": [
        "class layers:\n",
        "\n",
        "    @staticmethod\n",
        "    def Dense(layer_nodes:int, activation:str=None, kernel_initializer:str=\"He\", kernel_regularizer= None, input_shape:int=None):\n",
        "        return {\"layer_nodes\":layer_nodes, \"activation\":activation, \"kernel_initializer\":kernel_initializer, \"input_shape\":input_shape}\n",
        "\n",
        "\n",
        "    @staticmethod\n",
        "    def Dropout(keep_prob:float=0.8):\n",
        "        return {\"layer_nodes\":None, \"activation\":None, \"kernel_initializer\":\"He\", \"input_shape\":None, \"keep_prob\": keep_prob}"
      ]
    },
    {
      "cell_type": "code",
      "execution_count": null,
      "metadata": {
        "id": "vb2IYo_HskTo"
      },
      "outputs": [],
      "source": [
        "class Sequential:\n",
        "\n",
        "    def __init__(self):\n",
        "        self.W = {}; self.b = {}\n",
        "        self.A = {}; self.Z = {}\n",
        "        self.VdW = {}; self.Vdb = {}\n",
        "        self.SdW = {}; self.Sdb = {}\n",
        "        self.V_W = {}; self.V_b = {}\n",
        "        self.D_W = {}; self.D_b = {}\n",
        "        self.lr_W = {}; self.lr_b = {}\n",
        "        self.W_past = {}; self.b_past = {}\n",
        "        self.loss = None\n",
        "        self.count = 0\n",
        "        self.__layers_list = []\n",
        "        self.loss_per_epoch = []\n",
        "        self.history = {\"acc\": [], \"loss\": [], \"val_acc\": [], \"val_loss\": []}\n",
        "        self.optimizers_list = [\"GD\", \"SGD\", \"momentum\", \"NAG\", \"adagrad\", \"adadelta\", \"rmsprop\", \"adam\", None]\n",
        "        self.activations = [\"sigmoid\", \"softmax\", \"relu\", \"tanh\"]\n",
        "        self.losses = [\"mse\", \"binary_crossentropy\", \"categorical_crossentropy\"]\n",
        "        self.weights_init = [\"ones\", \"zeros\", \"He\", \"Xavier\"]\n",
        "        self.metric = None\n",
        "        self.metrics_list = [\"accuracy\", \"R2_score\", \"mse\", \"rmse\", \"mae\"]\n",
        "\n",
        "\n",
        "    @property\n",
        "    def layers_list(self):\n",
        "        layers = self.__layers_list\n",
        "        layers_updated = []\n",
        "        for layer in layers:\n",
        "            if \"keep_prob\" in layer:\n",
        "                del layers_updated[-1]\n",
        "            layers_updated.append(layer)\n",
        "        return layers_updated\n",
        "\n",
        "\n",
        "    def add(self, layer):\n",
        "        self.__layers_list.append(layer)\n",
        "        seq = self.__layers_list\n",
        "\n",
        "        if seq[0][\"input_shape\"] == None:\n",
        "            raise Exception(f\"First Dense() keyword argument 'input_shape' must be assigned a value\")\n",
        "\n",
        "        if \"keep_prob\" in seq[self.count]:\n",
        "            seq[self.count][\"input_shape\"] = seq[self.count-1][\"input_shape\"]\n",
        "            seq[self.count][\"activation\"] = seq[self.count-1][\"activation\"]\n",
        "            seq[self.count][\"layer_nodes\"] = seq[self.count-1][\"layer_nodes\"]\n",
        "            seq[self.count][\"kernel_initializer\"] = seq[self.count-1][\"kernel_initializer\"]\n",
        "\n",
        "        if seq[self.count][\"input_shape\"] == None:\n",
        "            seq[self.count][\"input_shape\"] = seq[self.count-1][\"layer_nodes\"]\n",
        "\n",
        "        if seq[self.count][\"kernel_initializer\"] not in self.weights_init:\n",
        "            raise Exception(f\"Error: Dense() got an expected keyword argument '{seq[self.count]['kernel_initializer']}' \")\n",
        "\n",
        "        if seq[self.count][\"activation\"] not in self.activations:\n",
        "            raise Exception(f\"Error: Dense() got an expected keyword argument '{seq[self.count]['activation']}' \")\n",
        "\n",
        "        self.count += 1\n",
        "\n",
        "\n",
        "    def compile(self, optimizer:str=None, lr:float=None, loss:str=None, metric:str=\"accuracy\"):\n",
        "        if loss == None:\n",
        "            raise Exception(f\"Compile keyword argument 'loss' must be assigned a value\")\n",
        "\n",
        "        if loss in self.losses:\n",
        "            self.loss = loss\n",
        "        else:\n",
        "            raise Exception(f\"Error: compile got an unexpected keyword argument '{loss}' \")\n",
        "\n",
        "        if metric != None:\n",
        "            if metric not in self.metrics_list:\n",
        "                raise Exception(f\"Error: wrong item(s) in keyword argument 'metric'.\")\n",
        "        else:\n",
        "            self.metric = metric\n",
        "\n",
        "        if optimizer not in self.optimizers_list:\n",
        "            raise Exception(f\"Error: compile got an unexpected keyword argument '{optimizer}' \")\n",
        "\n",
        "        else:\n",
        "            optimizers.selected_optimizer = optimizer\n",
        "\n",
        "        self.metric = metric\n",
        "        optimizers._lr = lr\n",
        "\n",
        "\n",
        "    def fit(self, x_train, y_train, epochs:int=50, batch_size:int=16, validation_data=None, shuffle=True):\n",
        "        self.x_train = x_train\n",
        "        self.y_train = y_train\n",
        "        self.validation_data = validation_data\n",
        "        self.epochs = epochs\n",
        "        self.batch_size = batch_size\n",
        "        self.shuffle = shuffle\n",
        "        self.validation_data = validation_data\n",
        "\n",
        "        layers = self.layers_list\n",
        "\n",
        "        #Initialization\n",
        "        for i in range(1, len(layers)+1):\n",
        "\n",
        "            initializers._present_layer_size = layers[i-1][\"layer_nodes\"]\n",
        "            initializers._previous_layer_size = layers[i-1][\"input_shape\"]\n",
        "\n",
        "            if layers[i-1][\"kernel_initializer\"] == \"He\":\n",
        "                kernel = initializers.He()\n",
        "                self.W[\"W_\"+str(i)] = kernel[0]; self.b[\"b_\"+str(i)] = kernel[1]\n",
        "\n",
        "            if layers[i-1][\"kernel_initializer\"] == \"Xavier\":\n",
        "                kernel = initializers.Xavier()\n",
        "                self.W[\"W_\"+str(i)] = kernel[0]; self.b[\"b_\"+str(i)] = kernel[1]\n",
        "\n",
        "            if layers[i-1][\"kernel_initializer\"] == \"zeros\":\n",
        "                kernel = initializers.Zeros()\n",
        "                self.W[\"W_\"+str(i)] = kernel[0]; self.b[\"b_\"+str(i)] = kernel[1]\n",
        "\n",
        "            if layers[i-1][\"kernel_initializer\"] == \"ones\":\n",
        "                kernel = initializers.Ones()\n",
        "                self.W[\"W_\"+str(i)] = kernel[0]; self.b[\"b_\"+str(i)] = kernel[1]\n",
        "\n",
        "            self.VdW[\"VdW_\"+str(i)] = np.zeros((initializers._present_layer_size, initializers._previous_layer_size))\n",
        "            self.Vdb[\"Vdb_\"+str(i)] = initializers.He()[1]\n",
        "            self.SdW[\"SdW_\"+str(i)] = np.zeros((initializers._present_layer_size, initializers._previous_layer_size))\n",
        "            self.Sdb[\"Sdb_\"+str(i)] = initializers.He()[1]\n",
        "            self.V_W[\"V_W_\"+str(i)] = np.zeros((initializers._present_layer_size, initializers._previous_layer_size))\n",
        "            self.V_b[\"V_b_\"+str(i)] = initializers.He()[1]\n",
        "            self.D_W[\"D_W_\"+str(i)] = np.zeros((initializers._present_layer_size, initializers._previous_layer_size))\n",
        "            self.D_b[\"D_b_\"+str(i)] = initializers.He()[1]\n",
        "            self.W_past[\"W_\"+str(i)] = np.zeros((initializers._present_layer_size, initializers._previous_layer_size))\n",
        "            self.b_past[\"b_\"+str(i)] = initializers.He()[1]\n",
        "\n",
        "        if self.metric == \"r2_score\":\n",
        "          self.__change_metric(\"acc\", \"r2_score\")\n",
        "          self.__change_metric(\"val_acc\", \"val_r2_score\")\n",
        "\n",
        "        if self.metric == \"rmse\":\n",
        "          self.__change_metric(\"acc\", \"rmse\")\n",
        "          self.__change_metric(\"val_acc\", \"val_rmse\")\n",
        "\n",
        "        if self.metric == \"mae\":\n",
        "            self.__change_metric(\"acc\", \"mae\")\n",
        "            self.__change_metric(\"val_acc\", \"val_mae\")\n",
        "\n",
        "        if self.metric == \"mse\":\n",
        "          self.__change_metric(\"acc\", \"mse\")\n",
        "          self.__change_metric(\"val_acc\", \"val_mse\")\n",
        "\n",
        "        # iterate over training epochs\n",
        "        for epoch in range(self.epochs):\n",
        "\n",
        "            if self.shuffle:\n",
        "                XY_concat = np.concatenate((self.x_train, self.y_train), axis=1)\n",
        "                indices = np.arange(XY_concat.shape[0])\n",
        "                np.random.shuffle(indices)\n",
        "                XY_concat_ = np.zeros((XY_concat.shape[0], XY_concat.shape[-1]))\n",
        "                for idx in range(XY_concat.shape[0]):\n",
        "                    XY_concat_[indices[idx]] = list(XY_concat[idx])\n",
        "                self.x_train = XY_concat_[:, :self.x_train.shape[-1]]\n",
        "                self.y_train  = XY_concat_[:, self.x_train.shape[-1]:]\n",
        "\n",
        "            print(f\"Epoch {epoch+1}/{self.epochs}\")\n",
        "\n",
        "            self.__train()\n",
        "\n",
        "            #Validation\n",
        "            if self.validation_data != None:\n",
        "                validate = self.evaluate(self.validation_data[0], self.validation_data[1], _evaluating=False)\n",
        "                self.history[\"val_loss\"].append(validate[0])\n",
        "\n",
        "                if self.metric == \"accuracy\":\n",
        "                  self.history[\"val_acc\"].append(validate[1])\n",
        "\n",
        "                if self.metric == \"r2_score\":\n",
        "                  self.history[\"val_r2_score\"].append(validate[0])\n",
        "\n",
        "                if self.metric == \"rmse\":\n",
        "                  self.history[\"val_rmse\"].append(validate[0])\n",
        "\n",
        "                if self.metric == \"mae\":\n",
        "                  self.history[\"val_mae\"].append(validate[0])\n",
        "\n",
        "                if self.metric == \"mse\":\n",
        "                  self.history[\"val_mse\"].append(validate[0])\n",
        "\n",
        "\n",
        "    def __train(self):\n",
        "\n",
        "        m = self.x_train.shape[0]  #number of training examples\n",
        "        self.n = m // self.batch_size # number of minibatches\n",
        "        if m % self.batch_size > 0:\n",
        "            self.n += 1\n",
        "        A = self.A; Z = self.Z\n",
        "        W = self.W; b = self.b\n",
        "        layers = self.layers_list\n",
        "        loss_per_iter = [] #losses of all the batches\n",
        "        Y_pred = [] #prediction of all the batches\n",
        "        D = {}; keep_prob = {} #use for dropout computation\n",
        "\n",
        "        start_time = timeit.default_timer()\n",
        "        for batch in range(self.n):\n",
        "            \"\"\"__________Forward Propagation____________\"\"\"\n",
        "\n",
        "            x_batch = self.x_train[batch * self.batch_size:(batch+1) * self.batch_size].T\n",
        "            y_batch = self.y_train[batch * self.batch_size:(batch+1) * self.batch_size].T\n",
        "            A[\"A_\"+str(0)] = x_batch # Input layer\n",
        "\n",
        "            for layer in range(1, len(W)+1):\n",
        "                Z[\"Z_\"+str(layer)] = np.dot(W[\"W_\"+str(layer)], A[\"A_\"+str(layer-1)]) + b[\"b_\"+str(layer)]\n",
        "                activations._z = Z[\"Z_\"+str(layer)]\n",
        "\n",
        "                if layers[layer-1][\"activation\"] == None:\n",
        "                    A[\"A_\"+str(layer)] = Z[\"Z_\"+str(layer)]\n",
        "\n",
        "                if layers[layer-1][\"activation\"] == \"sigmoid\":\n",
        "                    A[\"A_\"+str(layer)] = activations.sigmoid()\n",
        "\n",
        "                if layers[layer-1][\"activation\"] == \"tanh\":\n",
        "                    A[\"A_\"+str(layer)] = activations.tanh()\n",
        "\n",
        "                if layers[layer-1][\"activation\"] == \"relu\":\n",
        "                    A[\"A_\"+str(layer)] = activations.relu()\n",
        "\n",
        "                if layers[layer-1][\"activation\"] == \"softmax\":\n",
        "                    A[\"A_\"+str(layer)] = activations.softmax()\n",
        "\n",
        "                # Dropout\n",
        "                if \"keep_prob\" in layers[layer-1]:\n",
        "                    keep_prob[\"kp\"+str(layer)] = layers[layer-1][\"keep_prob\"]\n",
        "                    D[\"D_\"+str(layer)] = np.random.rand(A[\"A_\"+str(layer)].shape[0], A[\"A_\"+str(layer)].shape[1]) < keep_prob[\"kp\"+str(layer)]\n",
        "                    #inverted dropout technique\n",
        "                    A[\"A_\"+str(layer)] *= D[\"D_\"+str(layer)] / keep_prob[\"kp\"+str(layer)]\n",
        "\n",
        "            #Loss computation\n",
        "            y_true = y_batch\n",
        "            y_predict = A[\"A_\"+str(len(W))] #activation of the output layer\n",
        "            k_ = x_batch.shape[1]\n",
        "            loss = self.loss\n",
        "            if loss == \"mse\":\n",
        "                loss_per_iter.append(losses.MeanSquaredError(y_true, y_predict, k_))\n",
        "\n",
        "            elif loss == \"binary_crossentropy\":\n",
        "                loss_per_iter.append(losses.BinaryCrossentropy(y_true, y_predict, k_))\n",
        "\n",
        "            elif loss == \"categorical_crossentropy\":\n",
        "                loss_per_iter.append(losses.CategoricalCrossentropy(y_true, y_predict, k_))\n",
        "\n",
        "            \"\"\"___________Back propagation________________\"\"\"\n",
        "\n",
        "            dZ = {\"dZ_\"+str(i):np.zeros(Z[\"Z_\"+str(i)].shape) for i in range(1, len(Z)+1)}\n",
        "            dW = {}; db = {}\n",
        "            W_present = W\n",
        "            b_present = b\n",
        "            if optimizers.selected_optimizer == \"NAG\":\n",
        "                optimize = optimizers.NAG(W, b, dW, db, self.VdW, self.Vdb, W_present, b_present)\n",
        "                W_future = optimize[\"W_future\"]\n",
        "                b_future = optimize[\"b_future\"]\n",
        "\n",
        "                #Make W and b to be equal to W_future=W + beta * VdW and b_future=b + beta * Vdb respectively.\n",
        "                for i in range(1, len(W)+1):\n",
        "                    W[\"W_\"+str(i)] = W_future[\"Wf_\"+str(i)]\n",
        "                    b[\"b_\"+str(i)] = b_future[\"bf_\"+str(i)]\n",
        "\n",
        "            if loss == \"mse\":\n",
        "                dZ[list(dZ.keys())[-1]] = losses.MeanSquaredErrorBackProp(y_true, y_predict) #last layer dZ\n",
        "\n",
        "            elif loss == \"binary_crossentropy\":\n",
        "                dZ[list(dZ.keys())[-1]] = losses.BinaryCrossentropyBackProp(y_true, y_predict)  #last layer dZ\n",
        "\n",
        "            elif loss == \"categorical_crossentropy\":\n",
        "                dZ[list(dZ.keys())[-1]] = losses.CategoricalCrossentropyBackProp(y_true, y_predict)  #last layer dZ\n",
        "\n",
        "            #Previous layers dZ computation\n",
        "            prev_layers_ = list(range(1, len(dZ)))\n",
        "            prev_layers_.reverse()\n",
        "\n",
        "            for j in prev_layers_:\n",
        "                activations._a = A[\"A_\"+str(j)]\n",
        "                layer_activation = layers[j-1][\"activation\"]\n",
        "                dA = np.dot(W[\"W_\"+str(j+1)].T, dZ[\"dZ_\"+str(j+1)])\n",
        "\n",
        "                if \"kp\"+str(j) in keep_prob:\n",
        "                    dA *= D[\"D_\"+str(j)] / keep_prob[\"kp\"+str(j)]\n",
        "\n",
        "                if layer_activation == None:\n",
        "                    dZ[\"dZ_\"+str(j)] = dA * 1\n",
        "\n",
        "                elif layer_activation == \"sigmoid\":\n",
        "                    dZ[\"dZ_\"+str(j)] = dA * activations.sigmoid_der()\n",
        "\n",
        "                elif layer_activation == \"relu\":\n",
        "                    dZ[\"dZ_\"+str(j)] = dA * activations.relu_der()\n",
        "\n",
        "                elif layer_activation == \"tanh\":\n",
        "                    dZ[\"dZ_\"+str(j)] = dA * activations.tanh_der()\n",
        "\n",
        "            for l in range(1, len(W)+1):\n",
        "                dW[\"dW_\"+str(l)] = np.dot(dZ[\"dZ_\"+str(l)], A[\"A_\"+str(l-1)].T) / k_\n",
        "                db[\"db_\"+str(l)] = np.sum(dZ[\"dZ_\"+str(l)], axis=1, keepdims=True) / k_\n",
        "\n",
        "\n",
        "            if optimizers.selected_optimizer == \"NAG\":\n",
        "                dW_future_ = dW\n",
        "                db_future_ = db\n",
        "                optimize = optimizers.NAG(W, b, dW, db, self.VdW, self.Vdb, W_present, b_present, dW_future=dW_future_, db_future=db_future_, look_ahead=False)\n",
        "                W = optimize[\"W\"]; b = optimize[\"b\"]\n",
        "                self.VdW = optimize[\"VdW\"]; self.Vdb = optimize[\"Vdb\"]\n",
        "\n",
        "\n",
        "            if optimizers.selected_optimizer == \"SGD\":\n",
        "                optimize = optimizers.SGD(W, b, dW, db)\n",
        "                W = optimize[\"W\"]; b = optimize[\"b\"]\n",
        "\n",
        "            if optimizers.selected_optimizer == \"momentum\":\n",
        "                optimize = optimizers.Momentum(W, b, dW, db, self.VdW, self.Vdb)\n",
        "                W = optimize[\"W\"]; b = optimize[\"b\"]\n",
        "                VdW = optimize[\"VdW\"]; Vdb = optimize[\"Vdb\"]\n",
        "\n",
        "            if optimizers.selected_optimizer == \"adagrad\":\n",
        "                optimize = optimizers.Adagrad(W, b, dW, db, self.V_W, self.V_b, self.lr_W, self.lr_b)\n",
        "                W = optimize[\"W\"]; b = optimize[\"b\"]\n",
        "                self.V_W = optimize[\"V_W\"]; self.V_b = optimize[\"V_b\"]\n",
        "                self.lr_W = optimize[\"lr_W\"]; self.lr_b = optimize[\"lr_b\"]\n",
        "\n",
        "            if optimizers.selected_optimizer == \"rmsprop\":\n",
        "                optimize = optimizers.RMSprop(W, b, dW, db, self.SdW, self.Sdb, self.lr_W, self.lr_b)\n",
        "                W = optimize[\"W\"]; b = optimize[\"b\"]\n",
        "                self.SdW = optimize[\"SdW\"]; self.Sdb = optimize[\"Sdb\"]\n",
        "                self.lr_W = optimize[\"lr_W\"]; self.lr_b = optimize[\"lr_b\"]\n",
        "\n",
        "            if optimizers.selected_optimizer == \"adadelta\":\n",
        "                delta_W = {}; delta_b = {}\n",
        "                optimize = optimizers.Adadelta(W, b, dW, db, self.W_past, self.b_past, self.D_W, self.D_b, self.SdW, self.Sdb, delta_W, delta_b, self.lr_W, self.lr_b)\n",
        "                self.W_past = W; self.b_past=b\n",
        "                W = optimize[\"W\"]; b = optimize[\"b\"]\n",
        "                self.SdW = optimize[\"SdW\"]; self.Sdb = optimize[\"Sdb\"]\n",
        "                self.D_W = optimize[\"D_W\"]; self.D_b = optimize[\"D_b\"]\n",
        "                self.lr_W = optimize[\"lr_W\"]; self.lr_b = optimize[\"lr_b\"]\n",
        "\n",
        "            if optimizers.selected_optimizer == \"adam\":\n",
        "                optimize  = optimizers.Adam(W, b, dW, db, self.VdW, self.Vdb, self.SdW, self.Sdb, batch+1)\n",
        "                W = optimize[\"W\"]; b = optimize[\"b\"]\n",
        "                self.VdW = optimize[\"VdW\"]; self.Vdb = optimize[\"Vdb\"]\n",
        "                self.SdW = optimize[\"SdW\"]; self.Sdb = optimize[\"Sdb\"]\n",
        "\n",
        "            y_pred = A[\"A_\"+str(len(W))] #activation of the output layer\n",
        "            Y_pred.append(y_pred.T)\n",
        "\n",
        "        self.W = W; self.b = b\n",
        "        Y_pred = np.concatenate(Y_pred, axis=0)\n",
        "\n",
        "        #Calculating the metric of the training data per epoch\n",
        "        metric_value = 0\n",
        "        if self.metric == \"accuracy\":\n",
        "            training_acc = self.__accuracy(self.y_train, Y_pred)\n",
        "            self.history[\"acc\"].append(training_acc)\n",
        "            metric_value = training_acc\n",
        "\n",
        "        if self.metric == \"r2_score\":\n",
        "            training_score = self.__R2_score(self.y_train, Y_pred)\n",
        "            self.history[\"r2_score\"].append(training_score)\n",
        "            metric_value = training_score\n",
        "\n",
        "        if self.metric == \"rmse\":\n",
        "            training_rmse = self.__RMSE(self.y_train, Y_pred)\n",
        "            self.history[\"rmse\"].append(training_rmse)\n",
        "            metric_value = training_rmse\n",
        "\n",
        "\n",
        "        if self.metric == \"mae\":\n",
        "            training_mae = self.__MAE(self.y_train, Y_pred)\n",
        "            self.history[\"mae\"].append(training_mae)\n",
        "            metric_value = training_mae\n",
        "\n",
        "        if self.metric == \"mse\":\n",
        "            training_mse = self.__MSE(self.y_train, Y_pred)\n",
        "            self.history[\"mse\"].append(training_rmse)\n",
        "            metric_value = training_mse\n",
        "\n",
        "        avg_loss_per_epoch = sum(loss_per_iter)/len(loss_per_iter)\n",
        "        self.history[\"loss\"].append(avg_loss_per_epoch) #loss per epoch\n",
        "        loss_per_iter.clear()\n",
        "\n",
        "        end_time = timeit.default_timer()\n",
        "        runtime = end_time - start_time\n",
        "        print(f\"{Y_pred.shape[0]}/{self.y_train.shape[0]} [==============================] runtime: {np.round_(runtime, 4)}s, loss:{np.round_(avg_loss_per_epoch, 4)}, {self.metric}: {np.round_(metric_value, 4)} \")\n",
        "        print()\n",
        "\n",
        "    def __change_metric(self, old_metric, new_metric):\n",
        "      del self.history[old_metric]\n",
        "      self.history[new_metric] = []\n",
        "\n",
        "\n",
        "    def evaluate(self, x, y, _evaluating=True):\n",
        "        p = x.shape[0]  #number of testing examples\n",
        "        self.n = p // self.batch_size # number of minibatches\n",
        "        if p % self.batch_size > 0:\n",
        "            self.n += 1\n",
        "        layers = self.layers_list\n",
        "        W = self.W; b = self.b\n",
        "        A = {}; Z = {}\n",
        "        results = [] #loss and accuracy\n",
        "        Y_predicted = [] #all the predicted y values\n",
        "        loss_per_batch = []\n",
        "\n",
        "        start = timeit.default_timer()\n",
        "        for batch in range(self.n):\n",
        "            x_batch = x[batch * self.batch_size:(batch+1) * self.batch_size].T\n",
        "            y_batch = y[batch * self.batch_size:(batch+1) * self.batch_size].T\n",
        "            A[\"A_\"+str(0)] = x_batch # Input layer\n",
        "\n",
        "            for layer in range(1, len(W)+1):\n",
        "                Z[\"Z_\"+str(layer)] = np.dot(W[\"W_\"+str(layer)], A[\"A_\"+str(layer-1)]) + b[\"b_\"+str(layer)]\n",
        "                activations._z = Z[\"Z_\"+str(layer)]\n",
        "                if layers[layer-1][\"activation\"] == None:\n",
        "                    A[\"A_\"+str(layer)] = Z[\"Z_\"+str(layer)]\n",
        "\n",
        "                if layers[layer-1][\"activation\"] == \"sigmoid\":\n",
        "                    A[\"A_\"+str(layer)] = activations.sigmoid()\n",
        "\n",
        "                if layers[layer-1][\"activation\"] == \"tanh\":\n",
        "                    A[\"A_\"+str(layer)] = activations.tanh()\n",
        "\n",
        "                if layers[layer-1][\"activation\"] == \"relu\":\n",
        "                    A[\"A_\"+str(layer)] = activations.relu()\n",
        "\n",
        "                if layers[layer-1][\"activation\"] == \"softmax\":\n",
        "                    A[\"A_\"+str(layer)] = activations.softmax()\n",
        "\n",
        "            y_true = y_batch\n",
        "            y_predict = A[\"A_\"+str(len(W))] #activation of the output layer\n",
        "            Y_predicted.append(y_predict.T)\n",
        "            k_ = x_batch.shape[1]\n",
        "            loss = self.loss\n",
        "\n",
        "            #Loss computation\n",
        "            if loss == \"mse\":\n",
        "                loss_per_batch.append(losses.MeanSquaredError(y_true, y_predict, k_))\n",
        "\n",
        "            elif loss == \"binary_crossentropy\":\n",
        "                loss_per_batch.append(losses.BinaryCrossentropy(y_true, y_predict, k_))\n",
        "\n",
        "            elif loss == \"categorical_crossentropy\":\n",
        "                loss_per_batch.append(losses.CategoricalCrossentropy(y_true, y_predict, k_))\n",
        "        end=timeit.default_timer()\n",
        "        runtime = end-start\n",
        "\n",
        "        Y_predicted = np.concatenate(Y_predicted, axis=0)\n",
        "        metric_value = 0\n",
        "\n",
        "        if self.metric == \"accuracy\":\n",
        "          metric_value = self.__accuracy(y, Y_predicted)\n",
        "\n",
        "        if self.metric == \"r2_score\":\n",
        "          metric_value = self.__R2_score(y, Y_predicted)\n",
        "\n",
        "        if self.metric == \"rmse\":\n",
        "          metric_value = self.__RMSE(y, Y_predicted)\n",
        "\n",
        "        if self.metric == \"mae\":\n",
        "          metric_value = self.__MAE(y, Y_predicted)\n",
        "\n",
        "        if self.metric == \"mse\":\n",
        "          metric_value = self.__MSE(y, Y_predicted)\n",
        "\n",
        "        results.append(sum(loss_per_batch)/len(loss_per_batch)) #evaluation loss\n",
        "        results.append(metric_value)\n",
        "\n",
        "        if _evaluating:\n",
        "            print(f\"{Y_predicted.shape[0]}/{y.shape[0]} [==============================] runtime: {np.round_(runtime, 4)}s, loss:{np.round_(results[0], 4)}, {self.metric}: {np.round_(results[-1], 4)}\\n{results}\")\n",
        "            return\n",
        "        else:\n",
        "            return results\n",
        "\n",
        "\n",
        "    def __accuracy(self, y_true, y_predict):\n",
        "        acc = np.mean(np.equal(np.argmax(y_true, axis=-1), np.argmax(y_predict, axis=-1)))\n",
        "        return acc\n",
        "\n",
        "\n",
        "    def __RMSE(self, y_true, y_predict):\n",
        "      rmse = np.sqrt(np.mean((y_true - y_predict)**2))\n",
        "      return rmse\n",
        "\n",
        "    def __R2_score(self, y_true, y_predict):\n",
        "      rss = np.sum((y_true-y_predict)**2)\n",
        "      tss = np.sum((y_true-np.mean(y_true))**2)\n",
        "      r2_score = 1-(rss/tss)\n",
        "      return r2_score\n",
        "\n",
        "\n",
        "    def __MAE(self, y_true, y_predict):\n",
        "      mae = np.mean(np.abs(y_true - y_predict))\n",
        "      return mae\n",
        "\n",
        "    def __MSE(self, y_true, y_predict):\n",
        "      mse = np.mean((y_true - y_predict) ** 2)\n",
        "      return mse\n",
        "\n",
        "\n",
        "    def predict(self, x_test):\n",
        "        layers = Sequential.layers\n",
        "        W = self.W; b = self.b\n",
        "        A = {}; Z = {}\n",
        "        A[\"A_\"+str(0)] = x_test.T\n",
        "        for layer in range(1, len(W)+1):\n",
        "            Z[\"Z_\"+str(layer)] = np.dot(W[\"W_\"+str(layer)], A[\"A_\"+str(layer-1)]) + b[\"b_\"+str(layer)]\n",
        "            activations._z = Z[\"Z_\"+str(layer)]\n",
        "            if layers[layer-1][\"activation\"] == None:\n",
        "                A[\"A_\"+str(layer)] = Z[\"Z_\"+str(layer)]\n",
        "\n",
        "            if layers[layer-1][\"activation\"] == \"sigmoid\":\n",
        "                A[\"A_\"+str(layer)] = activations.sigmoid()\n",
        "\n",
        "            if layers[layer-1][\"activation\"] == \"tanh\":\n",
        "                A[\"A_\"+str(layer)] = activations.tanh()\n",
        "\n",
        "            if layers[layer-1][\"activation\"] == \"relu\":\n",
        "                A[\"A_\"+str(layer)] = activations.relu()\n",
        "\n",
        "            if layers[layer-1][\"activation\"] == \"softmax\":\n",
        "                A[\"A_\"+str(layer)] = activations.softmax()\n",
        "        y_predicted = A[\"A_\"+str(len(W))].T #activation of the output layer\n",
        "        return y_predicted\n",
        "\n",
        "\n",
        "\n",
        "\n"
      ]
    },
    {
      "cell_type": "code",
      "execution_count": null,
      "metadata": {
        "id": "Y2r82Infr27S"
      },
      "outputs": [],
      "source": [
        "#Loading MNIST training and testing dataset\n",
        "(train_images, train_labels) , (test_images, test_labels) = keras.datasets.mnist.load_data()"
      ]
    },
    {
      "cell_type": "code",
      "execution_count": null,
      "metadata": {
        "colab": {
          "base_uri": "https://localhost:8080/"
        },
        "id": "Ul1O3FHDs0Ts",
        "outputId": "14c01c5a-b914-47ba-c7f4-94d2350120a5"
      },
      "outputs": [
        {
          "output_type": "stream",
          "name": "stdout",
          "text": [
            "(60000, 28, 28)     (60000,)\n"
          ]
        }
      ],
      "source": [
        "print(train_images.shape,\"   \", train_labels.shape)"
      ]
    },
    {
      "cell_type": "code",
      "execution_count": null,
      "metadata": {
        "colab": {
          "base_uri": "https://localhost:8080/"
        },
        "id": "MINmhTFrvBhP",
        "outputId": "8bde4393-aba4-4bbc-db20-0910979d6c21"
      },
      "outputs": [
        {
          "output_type": "stream",
          "name": "stdout",
          "text": [
            "(10000, 28, 28)     (10000,)\n"
          ]
        }
      ],
      "source": [
        "print(test_images.shape,\"   \", test_labels.shape)"
      ]
    },
    {
      "cell_type": "code",
      "source": [
        "plt.matshow(train_images[10])"
      ],
      "metadata": {
        "colab": {
          "base_uri": "https://localhost:8080/",
          "height": 454
        },
        "id": "yo-iKU9XQhBM",
        "outputId": "8312bef1-df14-475a-96d5-d9e4dac8eef0"
      },
      "execution_count": 73,
      "outputs": [
        {
          "output_type": "execute_result",
          "data": {
            "text/plain": [
              "<matplotlib.image.AxesImage at 0x7c720e8d7dc0>"
            ]
          },
          "metadata": {},
          "execution_count": 73
        },
        {
          "output_type": "display_data",
          "data": {
            "text/plain": [
              "<Figure size 480x480 with 1 Axes>"
            ],
            "image/png": "[encoded data removed]"
          },
          "metadata": {}
        }
      ]
    },
    {
      "cell_type": "code",
      "execution_count": 74,
      "metadata": {
        "colab": {
          "base_uri": "https://localhost:8080/"
        },
        "id": "ty5JE9X_h26H",
        "outputId": "a89e852b-4843-41aa-9cc1-888e9c1ed2dc"
      },
      "outputs": [
        {
          "output_type": "execute_result",
          "data": {
            "text/plain": [
              "array([[  0,   0,   0,   0,   0,   0,   0,   0,   0,   0,   0,   0,   0,\n",
              "          0,   0,   0,   0,   0,   0,   0,   0,   0,   0,   0,   0,   0,\n",
              "          0,   0],\n",
              "       [  0,   0,   0,   0,   0,   0,   0,   0,   0,   0,   0,   0,   0,\n",
              "          0,   0,   0,   0,   0,   0,   0,   0,   0,   0,   0,   0,   0,\n",
              "          0,   0],\n",
              "       [  0,   0,   0,   0,   0,   0,   0,   0,   0,   0,   0,   0,   0,\n",
              "          0,   0,   0,   0,   0,   0,   0,   0,   0,   0,   0,   0,   0,\n",
              "          0,   0],\n",
              "       [  0,   0,   0,   0,   0,   0,   0,   0,   0,   0,   0,   0,   0,\n",
              "          0,   0,   0,   0,   0,   0,   0,   0,   0,   0,   0,   0,   0,\n",
              "          0,   0],\n",
              "       [  0,   0,   0,   0,   0,   0,   0,   0,   0,   0,   0,  42, 118,\n",
              "        219, 166, 118, 118,   6,   0,   0,   0,   0,   0,   0,   0,   0,\n",
              "          0,   0],\n",
              "       [  0,   0,   0,   0,   0,   0,   0,   0,   0,   0, 103, 242, 254,\n",
              "        254, 254, 254, 254,  66,   0,   0,   0,   0,   0,   0,   0,   0,\n",
              "          0,   0],\n",
              "       [  0,   0,   0,   0,   0,   0,   0,   0,   0,   0,  18, 232, 254,\n",
              "        254, 254, 254, 254, 238,  70,   0,   0,   0,   0,   0,   0,   0,\n",
              "          0,   0],\n",
              "       [  0,   0,   0,   0,   0,   0,   0,   0,   0,   0,   0, 104, 244,\n",
              "        254, 224, 254, 254, 254, 141,   0,   0,   0,   0,   0,   0,   0,\n",
              "          0,   0],\n",
              "       [  0,   0,   0,   0,   0,   0,   0,   0,   0,   0,   0,   0, 207,\n",
              "        254, 210, 254, 254, 254,  34,   0,   0,   0,   0,   0,   0,   0,\n",
              "          0,   0],\n",
              "       [  0,   0,   0,   0,   0,   0,   0,   0,   0,   0,   0,   0,  84,\n",
              "        206, 254, 254, 254, 254,  41,   0,   0,   0,   0,   0,   0,   0,\n",
              "          0,   0],\n",
              "       [  0,   0,   0,   0,   0,   0,   0,   0,   0,   0,   0,   0,   0,\n",
              "         24, 209, 254, 254, 254, 171,   0,   0,   0,   0,   0,   0,   0,\n",
              "          0,   0],\n",
              "       [  0,   0,   0,   0,   0,   0,   0,   0,   0,   0,   0,   0,  91,\n",
              "        137, 253, 254, 254, 254, 112,   0,   0,   0,   0,   0,   0,   0,\n",
              "          0,   0],\n",
              "       [  0,   0,   0,   0,   0,   0,   0,   0,   0,   0,  40, 214, 250,\n",
              "        254, 254, 254, 254, 254,  34,   0,   0,   0,   0,   0,   0,   0,\n",
              "          0,   0],\n",
              "       [  0,   0,   0,   0,   0,   0,   0,   0,   0,   0,  81, 247, 254,\n",
              "        254, 254, 254, 254, 254, 146,   0,   0,   0,   0,   0,   0,   0,\n",
              "          0,   0],\n",
              "       [  0,   0,   0,   0,   0,   0,   0,   0,   0,   0,   0, 110, 246,\n",
              "        254, 254, 254, 254, 254, 171,   0,   0,   0,   0,   0,   0,   0,\n",
              "          0,   0],\n",
              "       [  0,   0,   0,   0,   0,   0,   0,   0,   0,   0,   0,   0,  73,\n",
              "         89,  89,  93, 240, 254, 171,   0,   0,   0,   0,   0,   0,   0,\n",
              "          0,   0],\n",
              "       [  0,   0,   0,   0,   0,   0,   0,   0,   0,   0,   0,   0,   0,\n",
              "          0,   0,   1, 128, 254, 219,  31,   0,   0,   0,   0,   0,   0,\n",
              "          0,   0],\n",
              "       [  0,   0,   0,   0,   0,   0,   0,   0,   0,   0,   0,   0,   0,\n",
              "          0,   0,   7, 254, 254, 214,  28,   0,   0,   0,   0,   0,   0,\n",
              "          0,   0],\n",
              "       [  0,   0,   0,   0,   0,   0,   0,   0,   0,   0,   0,   0,   0,\n",
              "          0,   0, 138, 254, 254, 116,   0,   0,   0,   0,   0,   0,   0,\n",
              "          0,   0],\n",
              "       [  0,   0,   0,   0,   0,   0,  19, 177,  90,   0,   0,   0,   0,\n",
              "          0,  25, 240, 254, 254,  34,   0,   0,   0,   0,   0,   0,   0,\n",
              "          0,   0],\n",
              "       [  0,   0,   0,   0,   0,   0, 164, 254, 215,  63,  36,   0,  51,\n",
              "         89, 206, 254, 254, 139,   8,   0,   0,   0,   0,   0,   0,   0,\n",
              "          0,   0],\n",
              "       [  0,   0,   0,   0,   0,   0,  57, 197, 254, 254, 222, 180, 241,\n",
              "        254, 254, 253, 213,  11,   0,   0,   0,   0,   0,   0,   0,   0,\n",
              "          0,   0],\n",
              "       [  0,   0,   0,   0,   0,   0,   0, 140, 105, 254, 254, 254, 254,\n",
              "        254, 254, 236,   0,   0,   0,   0,   0,   0,   0,   0,   0,   0,\n",
              "          0,   0],\n",
              "       [  0,   0,   0,   0,   0,   0,   0,   0,   7, 117, 117, 165, 254,\n",
              "        254, 239,  50,   0,   0,   0,   0,   0,   0,   0,   0,   0,   0,\n",
              "          0,   0],\n",
              "       [  0,   0,   0,   0,   0,   0,   0,   0,   0,   0,   0,   0,   0,\n",
              "          0,   0,   0,   0,   0,   0,   0,   0,   0,   0,   0,   0,   0,\n",
              "          0,   0],\n",
              "       [  0,   0,   0,   0,   0,   0,   0,   0,   0,   0,   0,   0,   0,\n",
              "          0,   0,   0,   0,   0,   0,   0,   0,   0,   0,   0,   0,   0,\n",
              "          0,   0],\n",
              "       [  0,   0,   0,   0,   0,   0,   0,   0,   0,   0,   0,   0,   0,\n",
              "          0,   0,   0,   0,   0,   0,   0,   0,   0,   0,   0,   0,   0,\n",
              "          0,   0],\n",
              "       [  0,   0,   0,   0,   0,   0,   0,   0,   0,   0,   0,   0,   0,\n",
              "          0,   0,   0,   0,   0,   0,   0,   0,   0,   0,   0,   0,   0,\n",
              "          0,   0]], dtype=uint8)"
            ]
          },
          "metadata": {},
          "execution_count": 74
        }
      ],
      "source": [
        "train_images[10]"
      ]
    },
    {
      "cell_type": "code",
      "execution_count": null,
      "metadata": {
        "colab": {
          "base_uri": "https://localhost:8080/",
          "height": 1000
        },
        "id": "-0JDUrYCvI2H",
        "outputId": "694dfa4b-c4d2-451d-bd2e-92f18f7b33b6"
      },
      "outputs": [
        {
          "output_type": "display_data",
          "data": {
            "text/plain": [
              "<Figure size 480x480 with 1 Axes>"
            ],
            "image/png": "[encoded data removed]"
          },
          "metadata": {}
        },
        {
          "output_type": "display_data",
          "data": {
            "text/plain": [
              "<Figure size 480x480 with 1 Axes>"
            ],
            "image/png": "[encoded data removed]"
          },
          "metadata": {}
        },
        {
          "output_type": "display_data",
          "data": {
            "text/plain": [
              "<Figure size 480x480 with 1 Axes>"
            ],
            "image/png": "[encoded data removed]"
          },
          "metadata": {}
        },
        {
          "output_type": "display_data",
          "data": {
            "text/plain": [
              "<Figure size 480x480 with 1 Axes>"
            ],
            "image/png": "[encoded data removed]"
          },
          "metadata": {}
        },
        {
          "output_type": "display_data",
          "data": {
            "text/plain": [
              "<Figure size 480x480 with 1 Axes>"
            ],
            "image/png": "[encoded data removed]"
          },
          "metadata": {}
        },
        {
          "output_type": "display_data",
          "data": {
            "text/plain": [
              "<Figure size 480x480 with 1 Axes>"
            ],
            "image/png": "[encoded data removed]"
          },
          "metadata": {}
        },
        {
          "output_type": "display_data",
          "data": {
            "text/plain": [
              "<Figure size 480x480 with 1 Axes>"
            ],
            "image/png": "[encoded data removed]"
          },
          "metadata": {}
        },
        {
          "output_type": "display_data",
          "data": {
            "text/plain": [
              "<Figure size 480x480 with 1 Axes>"
            ],
            "image/png": "[encoded data removed]"
          },
          "metadata": {}
        },
        {
          "output_type": "display_data",
          "data": {
            "text/plain": [
              "<Figure size 480x480 with 1 Axes>"
            ],
            "image/png": "[encoded data removed]"
          },
          "metadata": {}
        },
        {
          "output_type": "display_data",
          "data": {
            "text/plain": [
              "<Figure size 480x480 with 1 Axes>"
            ],
            "image/png": "[encoded data removed]"
          },
          "metadata": {}
        }
      ],
      "source": [
        "# randomly select 10 images and display\n",
        "labels = []\n",
        "for idx in np.random.randint(0,60000, size=10):\n",
        "  labels.append(train_labels[idx])\n",
        "  plt.matshow(train_images[idx])\n",
        "\n",
        "\n"
      ]
    },
    {
      "cell_type": "code",
      "execution_count": null,
      "metadata": {
        "colab": {
          "base_uri": "https://localhost:8080/"
        },
        "id": "Twuw9QypnRxv",
        "outputId": "467e5cc5-034b-4b09-88a0-0ef8a7476583"
      },
      "outputs": [
        {
          "output_type": "stream",
          "name": "stdout",
          "text": [
            "Labels of the randamly selected 10 images:\n",
            " [0, 2, 6, 0, 0, 5, 5, 7, 0, 1]\n"
          ]
        }
      ],
      "source": [
        "print(f\"Labels of the randamly selected 10 images:\\n {labels}\")"
      ]
    },
    {
      "cell_type": "code",
      "execution_count": null,
      "metadata": {
        "id": "EKW5FUeZv_q8"
      },
      "outputs": [],
      "source": [
        "# validation data\n",
        "val_images = train_images[: 10000]; val_labels = train_labels[: 10000]\n",
        "\n",
        "# data use for training\n",
        "partial_train_images = train_images[10000:]; partial_train_labels = train_labels[10000:]"
      ]
    },
    {
      "cell_type": "code",
      "execution_count": null,
      "metadata": {
        "colab": {
          "base_uri": "https://localhost:8080/"
        },
        "id": "pq-f8arQyxJY",
        "outputId": "eb94283f-443f-4a2e-f2ad-9794bf7a8dae"
      },
      "outputs": [
        {
          "output_type": "stream",
          "name": "stdout",
          "text": [
            "X_train shape: (50000, 784), y_train shape: (50000,)\n",
            "X_val shape: (10000, 784), y_val shape: (10000, 10)\n",
            "X_test shape: (10000, 784), y_test shape: (10000, 10)\n"
          ]
        }
      ],
      "source": [
        "\n",
        "#------------Preparing the image data--------------\n",
        "\n",
        "train_images_flattened = train_images.reshape(len(train_images), train_images.shape[1] * train_images.shape[2])\n",
        "train_images_flattened = train_images_flattened.astype(\"float32\") / np.max(train_images_flattened)\n",
        "\n",
        "partial_train_images_flattened = partial_train_images.reshape(len(partial_train_images), partial_train_images.shape[1] * partial_train_images.shape[2])\n",
        "partial_train_images_flattened = partial_train_images_flattened.astype(\"float32\") / np.max(partial_train_images_flattened)\n",
        "\n",
        "val_images_flattened = val_images.reshape(len(val_images), val_images.shape[1] * val_images.shape[2])\n",
        "val_images_flattened = val_images_flattened.astype(\"float32\") / np.max(val_images_flattened)\n",
        "\n",
        "test_images_flattened = test_images.reshape(len(test_images), test_images.shape[1] * test_images.shape[2])\n",
        "test_images_flattened = test_images_flattened.astype(\"float32\") / np.max(test_images_flattened)\n",
        "\n",
        "# one hot encode the features\n",
        "one_hot_train_labels = np.zeros((train_labels.shape[0], np.unique(train_labels).shape[0]))\n",
        "one_hot_partial_train_labels = np.zeros((partial_train_labels.shape[0], np.unique(train_labels).shape[0]))\n",
        "one_hot_val_labels = np.zeros((val_labels.shape[0], np.unique(train_labels).shape[0]))\n",
        "one_hot_test_labels = np.zeros((test_labels.shape[0], np.unique(train_labels).shape[0]))\n",
        "\n",
        "for i in range(one_hot_train_labels.shape[0]):\n",
        "  one_hot_train_labels[i, train_labels[i]] = 1\n",
        "\n",
        "for i in range(one_hot_partial_train_labels.shape[0]):\n",
        "  one_hot_partial_train_labels[i, partial_train_labels[i]] = 1\n",
        "\n",
        "for i in range(one_hot_val_labels.shape[0]):\n",
        "  one_hot_val_labels[i, val_labels[i]] = 1\n",
        "\n",
        "for i in range(one_hot_test_labels.shape[0]):\n",
        "  one_hot_test_labels[i, test_labels[i]] = 1\n",
        "\n",
        "print(f\"X_train shape: {partial_train_images_flattened.shape}, y_train shape: {partial_train_labels.shape}\")\n",
        "print(f\"X_val shape: {val_images_flattened.shape}, y_val shape: {one_hot_val_labels.shape}\")\n",
        "print(f\"X_test shape: {test_images_flattened.shape}, y_test shape: {one_hot_test_labels.shape}\")\n"
      ]
    },
    {
      "cell_type": "code",
      "execution_count": null,
      "metadata": {
        "colab": {
          "base_uri": "https://localhost:8080/"
        },
        "id": "bRhP3r6XiPz7",
        "outputId": "a0ab587a-8283-449f-f784-af2ecba3cc56"
      },
      "outputs": [
        {
          "output_type": "execute_result",
          "data": {
            "text/plain": [
              "array([0.        , 0.        , 0.        , 0.        , 0.        ,\n",
              "       0.        , 0.        , 0.        , 0.        , 0.        ,\n",
              "       0.        , 0.        , 0.        , 0.        , 0.        ,\n",
              "       0.        , 0.        , 0.        , 0.        , 0.        ,\n",
              "       0.        , 0.        , 0.        , 0.        , 0.        ,\n",
              "       0.        , 0.        , 0.        , 0.        , 0.        ,\n",
              "       0.        , 0.        , 0.        , 0.        , 0.        ,\n",
              "       0.        , 0.        , 0.        , 0.        , 0.        ,\n",
              "       0.        , 0.        , 0.        , 0.        , 0.        ,\n",
              "       0.        , 0.        , 0.        , 0.        , 0.        ,\n",
              "       0.        , 0.        , 0.        , 0.        , 0.        ,\n",
              "       0.        , 0.        , 0.        , 0.        , 0.        ,\n",
              "       0.        , 0.        , 0.        , 0.        , 0.        ,\n",
              "       0.        , 0.        , 0.        , 0.        , 0.        ,\n",
              "       0.        , 0.        , 0.        , 0.        , 0.        ,\n",
              "       0.        , 0.        , 0.        , 0.        , 0.        ,\n",
              "       0.        , 0.        , 0.        , 0.        , 0.        ,\n",
              "       0.        , 0.        , 0.        , 0.        , 0.        ,\n",
              "       0.        , 0.        , 0.        , 0.        , 0.        ,\n",
              "       0.        , 0.        , 0.        , 0.        , 0.        ,\n",
              "       0.        , 0.        , 0.        , 0.        , 0.        ,\n",
              "       0.        , 0.        , 0.        , 0.        , 0.        ,\n",
              "       0.        , 0.        , 0.        , 0.        , 0.        ,\n",
              "       0.        , 0.        , 0.        , 0.        , 0.        ,\n",
              "       0.        , 0.        , 0.        , 0.        , 0.        ,\n",
              "       0.8039216 , 0.5764706 , 0.        , 0.        , 0.        ,\n",
              "       0.        , 0.        , 0.        , 0.        , 0.        ,\n",
              "       0.        , 0.        , 0.        , 0.        , 0.        ,\n",
              "       0.        , 0.        , 0.        , 0.        , 0.        ,\n",
              "       0.        , 0.        , 0.        , 0.        , 0.        ,\n",
              "       0.        , 0.        , 0.        , 0.7019608 , 0.92156863,\n",
              "       0.14901961, 0.        , 0.        , 0.        , 0.        ,\n",
              "       0.        , 0.        , 0.        , 0.        , 0.        ,\n",
              "       0.        , 0.        , 0.        , 0.        , 0.        ,\n",
              "       0.        , 0.        , 0.        , 0.        , 0.        ,\n",
              "       0.        , 0.        , 0.        , 0.        , 0.        ,\n",
              "       0.        , 0.21176471, 0.99215686, 0.5647059 , 0.        ,\n",
              "       0.        , 0.        , 0.        , 0.        , 0.        ,\n",
              "       0.        , 0.        , 0.        , 0.        , 0.        ,\n",
              "       0.        , 0.        , 0.        , 0.        , 0.        ,\n",
              "       0.        , 0.        , 0.        , 0.        , 0.        ,\n",
              "       0.        , 0.        , 0.        , 0.        , 0.11372549,\n",
              "       0.99215686, 0.65882355, 0.        , 0.        , 0.        ,\n",
              "       0.        , 0.        , 0.        , 0.        , 0.        ,\n",
              "       0.        , 0.        , 0.        , 0.        , 0.        ,\n",
              "       0.        , 0.        , 0.        , 0.        , 0.        ,\n",
              "       0.        , 0.        , 0.        , 0.        , 0.        ,\n",
              "       0.        , 0.        , 0.11372549, 1.        , 0.6627451 ,\n",
              "       0.        , 0.        , 0.        , 0.        , 0.        ,\n",
              "       0.        , 0.        , 0.        , 0.        , 0.        ,\n",
              "       0.        , 0.        , 0.        , 0.        , 0.        ,\n",
              "       0.        , 0.        , 0.        , 0.        , 0.        ,\n",
              "       0.        , 0.        , 0.        , 0.        , 0.        ,\n",
              "       0.11372549, 0.99215686, 0.73333335, 0.02745098, 0.        ,\n",
              "       0.        , 0.        , 0.        , 0.        , 0.        ,\n",
              "       0.        , 0.        , 0.        , 0.        , 0.        ,\n",
              "       0.        , 0.        , 0.        , 0.        , 0.        ,\n",
              "       0.        , 0.        , 0.        , 0.        , 0.        ,\n",
              "       0.        , 0.        , 0.        , 0.11372549, 0.99215686,\n",
              "       0.99215686, 0.10980392, 0.        , 0.        , 0.        ,\n",
              "       0.        , 0.        , 0.        , 0.        , 0.        ,\n",
              "       0.        , 0.        , 0.        , 0.        , 0.        ,\n",
              "       0.        , 0.        , 0.        , 0.        , 0.        ,\n",
              "       0.        , 0.        , 0.        , 0.        , 0.        ,\n",
              "       0.        , 0.11372549, 0.99215686, 0.99215686, 0.10980392,\n",
              "       0.        , 0.        , 0.        , 0.        , 0.        ,\n",
              "       0.        , 0.        , 0.        , 0.        , 0.        ,\n",
              "       0.        , 0.        , 0.        , 0.        , 0.        ,\n",
              "       0.        , 0.        , 0.        , 0.        , 0.        ,\n",
              "       0.        , 0.        , 0.        , 0.        , 0.10196079,\n",
              "       0.9607843 , 0.99607843, 0.35686275, 0.        , 0.        ,\n",
              "       0.        , 0.        , 0.        , 0.        , 0.        ,\n",
              "       0.        , 0.        , 0.        , 0.        , 0.        ,\n",
              "       0.        , 0.        , 0.        , 0.        , 0.        ,\n",
              "       0.        , 0.        , 0.        , 0.        , 0.        ,\n",
              "       0.        , 0.        , 0.        , 0.6666667 , 0.99215686,\n",
              "       0.54901963, 0.        , 0.        , 0.        , 0.        ,\n",
              "       0.        , 0.        , 0.        , 0.        , 0.        ,\n",
              "       0.        , 0.        , 0.        , 0.        , 0.        ,\n",
              "       0.        , 0.        , 0.        , 0.        , 0.        ,\n",
              "       0.        , 0.        , 0.        , 0.        , 0.        ,\n",
              "       0.        , 0.6627451 , 0.99215686, 0.54901963, 0.        ,\n",
              "       0.        , 0.        , 0.        , 0.        , 0.        ,\n",
              "       0.        , 0.        , 0.        , 0.        , 0.        ,\n",
              "       0.        , 0.        , 0.        , 0.        , 0.        ,\n",
              "       0.        , 0.        , 0.        , 0.        , 0.        ,\n",
              "       0.        , 0.        , 0.        , 0.        , 0.6627451 ,\n",
              "       0.99215686, 0.54901963, 0.        , 0.        , 0.        ,\n",
              "       0.        , 0.        , 0.        , 0.        , 0.        ,\n",
              "       0.        , 0.        , 0.        , 0.        , 0.        ,\n",
              "       0.        , 0.        , 0.        , 0.        , 0.        ,\n",
              "       0.        , 0.        , 0.        , 0.        , 0.        ,\n",
              "       0.        , 0.        , 0.6666667 , 0.99607843, 0.5529412 ,\n",
              "       0.        , 0.        , 0.        , 0.        , 0.        ,\n",
              "       0.        , 0.        , 0.        , 0.        , 0.        ,\n",
              "       0.        , 0.        , 0.        , 0.        , 0.        ,\n",
              "       0.        , 0.        , 0.        , 0.        , 0.        ,\n",
              "       0.        , 0.        , 0.        , 0.        , 0.        ,\n",
              "       0.6666667 , 0.99215686, 0.54901963, 0.        , 0.        ,\n",
              "       0.        , 0.        , 0.        , 0.        , 0.        ,\n",
              "       0.        , 0.        , 0.        , 0.        , 0.        ,\n",
              "       0.        , 0.        , 0.        , 0.        , 0.        ,\n",
              "       0.        , 0.        , 0.        , 0.        , 0.        ,\n",
              "       0.        , 0.        , 0.        , 0.6666667 , 0.99215686,\n",
              "       0.54901963, 0.        , 0.        , 0.        , 0.        ,\n",
              "       0.        , 0.        , 0.        , 0.        , 0.        ,\n",
              "       0.        , 0.        , 0.        , 0.        , 0.        ,\n",
              "       0.        , 0.        , 0.        , 0.        , 0.        ,\n",
              "       0.        , 0.        , 0.        , 0.        , 0.        ,\n",
              "       0.        , 0.6627451 , 0.99215686, 0.54901963, 0.        ,\n",
              "       0.        , 0.        , 0.        , 0.        , 0.        ,\n",
              "       0.        , 0.        , 0.        , 0.        , 0.        ,\n",
              "       0.        , 0.        , 0.        , 0.        , 0.        ,\n",
              "       0.        , 0.        , 0.        , 0.        , 0.        ,\n",
              "       0.        , 0.        , 0.        , 0.16470589, 0.99607843,\n",
              "       0.99607843, 0.30588236, 0.        , 0.        , 0.        ,\n",
              "       0.        , 0.        , 0.        , 0.        , 0.        ,\n",
              "       0.        , 0.        , 0.        , 0.        , 0.        ,\n",
              "       0.        , 0.        , 0.        , 0.        , 0.        ,\n",
              "       0.        , 0.        , 0.        , 0.        , 0.        ,\n",
              "       0.        , 0.5529412 , 0.99215686, 0.76862746, 0.03529412,\n",
              "       0.        , 0.        , 0.        , 0.        , 0.        ,\n",
              "       0.        , 0.        , 0.        , 0.        , 0.        ,\n",
              "       0.        , 0.        , 0.        , 0.        , 0.        ,\n",
              "       0.        , 0.        , 0.        , 0.        , 0.        ,\n",
              "       0.        , 0.        , 0.        , 0.        , 0.9019608 ,\n",
              "       0.99215686, 0.50980395, 0.        , 0.        , 0.        ,\n",
              "       0.        , 0.        , 0.        , 0.        , 0.        ,\n",
              "       0.        , 0.        , 0.        , 0.        , 0.        ,\n",
              "       0.        , 0.        , 0.        , 0.        , 0.        ,\n",
              "       0.        , 0.        , 0.        , 0.        , 0.        ,\n",
              "       0.        , 0.        , 0.8       , 0.89411765, 0.12156863,\n",
              "       0.        , 0.        , 0.        , 0.        , 0.        ,\n",
              "       0.        , 0.        , 0.        , 0.        , 0.        ,\n",
              "       0.        , 0.        , 0.        , 0.        , 0.        ,\n",
              "       0.        , 0.        , 0.        , 0.        , 0.        ,\n",
              "       0.        , 0.        , 0.        , 0.        , 0.        ,\n",
              "       0.        , 0.        , 0.        , 0.        , 0.        ,\n",
              "       0.        , 0.        , 0.        , 0.        , 0.        ,\n",
              "       0.        , 0.        , 0.        , 0.        , 0.        ,\n",
              "       0.        , 0.        , 0.        , 0.        , 0.        ,\n",
              "       0.        , 0.        , 0.        , 0.        , 0.        ,\n",
              "       0.        , 0.        , 0.        , 0.        , 0.        ,\n",
              "       0.        , 0.        , 0.        , 0.        , 0.        ,\n",
              "       0.        , 0.        , 0.        , 0.        , 0.        ,\n",
              "       0.        , 0.        , 0.        , 0.        , 0.        ,\n",
              "       0.        , 0.        , 0.        , 0.        , 0.        ,\n",
              "       0.        , 0.        , 0.        , 0.        , 0.        ,\n",
              "       0.        , 0.        , 0.        , 0.        , 0.        ,\n",
              "       0.        , 0.        , 0.        , 0.        , 0.        ,\n",
              "       0.        , 0.        , 0.        , 0.        , 0.        ,\n",
              "       0.        , 0.        , 0.        , 0.        , 0.        ,\n",
              "       0.        , 0.        , 0.        , 0.        , 0.        ,\n",
              "       0.        , 0.        , 0.        , 0.        , 0.        ,\n",
              "       0.        , 0.        , 0.        , 0.        , 0.        ,\n",
              "       0.        , 0.        , 0.        , 0.        , 0.        ,\n",
              "       0.        , 0.        , 0.        , 0.        ], dtype=float32)"
            ]
          },
          "metadata": {},
          "execution_count": 20
        }
      ],
      "source": [
        "partial_train_images_flattened[20]"
      ]
    },
    {
      "cell_type": "code",
      "execution_count": null,
      "metadata": {
        "colab": {
          "base_uri": "https://localhost:8080/"
        },
        "id": "FTAgCnMSpi1a",
        "outputId": "2c2574bf-141d-472f-ed91-267ad8af95b1"
      },
      "outputs": [
        {
          "output_type": "execute_result",
          "data": {
            "text/plain": [
              "array([[0., 0., 0., ..., 0., 0., 0.],\n",
              "       [1., 0., 0., ..., 0., 0., 0.],\n",
              "       [0., 0., 0., ..., 0., 0., 0.],\n",
              "       ...,\n",
              "       [0., 0., 0., ..., 0., 0., 0.],\n",
              "       [0., 0., 0., ..., 0., 0., 1.],\n",
              "       [0., 0., 0., ..., 1., 0., 0.]])"
            ]
          },
          "metadata": {},
          "execution_count": 21
        }
      ],
      "source": [
        "one_hot_val_labels"
      ]
    },
    {
      "cell_type": "code",
      "execution_count": null,
      "metadata": {
        "colab": {
          "base_uri": "https://localhost:8080/"
        },
        "id": "Zvdj0Rpr-xR_",
        "outputId": "8e6bdd8f-39af-4fbb-9d01-9c9b45f8120b"
      },
      "outputs": [
        {
          "output_type": "stream",
          "name": "stdout",
          "text": [
            "[1. 0. 0. 0. 0. 0. 0. 0. 0. 0.] 0\n",
            "\n",
            "[0. 0. 0. 0. 0. 0. 0. 0. 1. 0.] 8\n",
            "[0. 0. 0. 0. 0. 0. 0. 0. 1. 0.] 8\n",
            "\n",
            "[0. 0. 0. 1. 0. 0. 0. 0. 0. 0.] 3\n",
            "[0. 0. 1. 0. 0. 0. 0. 0. 0. 0.] 2\n",
            "\n",
            "[0. 1. 0. 0. 0. 0. 0. 0. 0. 0.] 1\n",
            "[0. 0. 0. 0. 0. 1. 0. 0. 0. 0.] 5\n",
            "\n",
            "[0. 0. 0. 0. 0. 0. 0. 1. 0. 0.] 7\n",
            "[0. 0. 0. 0. 0. 0. 0. 1. 0. 0.] 7\n",
            "\n",
            "[0. 0. 0. 0. 0. 0. 0. 0. 0. 1.] 9\n",
            "[0. 0. 0. 0. 0. 0. 0. 1. 0. 0.] 7\n",
            "\n",
            "[0. 0. 0. 0. 0. 1. 0. 0. 0. 0.] 5\n",
            "[1. 0. 0. 0. 0. 0. 0. 0. 0. 0.] 0\n",
            "\n",
            "[0. 1. 0. 0. 0. 0. 0. 0. 0. 0.] 1\n",
            "[0. 1. 0. 0. 0. 0. 0. 0. 0. 0.] 1\n",
            "\n",
            "[0. 0. 0. 0. 0. 0. 0. 1. 0. 0.] 7\n",
            "[0. 0. 1. 0. 0. 0. 0. 0. 0. 0.] 2\n",
            "\n",
            "[0. 0. 1. 0. 0. 0. 0. 0. 0. 0.] 2\n",
            "[0. 1. 0. 0. 0. 0. 0. 0. 0. 0.] 1\n",
            "\n",
            "[0. 0. 0. 0. 0. 0. 0. 1. 0. 0.] 7\n"
          ]
        }
      ],
      "source": [
        "for i in np.random.randint(1,1000, size=10):\n",
        "  print(one_hot_partial_train_labels[i], partial_train_labels[i]);print()\n",
        "  print(one_hot_val_labels[i], val_labels[i])\n",
        "\n"
      ]
    },
    {
      "cell_type": "code",
      "execution_count": 70,
      "metadata": {
        "colab": {
          "base_uri": "https://localhost:8080/"
        },
        "id": "YyhTEGiD0N36",
        "outputId": "415dd051-503c-4d77-fa91-dc0a6e9362de"
      },
      "outputs": [
        {
          "output_type": "stream",
          "name": "stdout",
          "text": [
            "Epoch 1/50\n",
            "50000/50000 [==============================] runtime: 3.2961s, loss:1.9352, accuracy: 0.2272 \n",
            "\n",
            "Epoch 2/50\n",
            "50000/50000 [==============================] runtime: 3.5824s, loss:1.7769, accuracy: 0.2964 \n",
            "\n",
            "Epoch 3/50\n",
            "50000/50000 [==============================] runtime: 3.2932s, loss:1.6936, accuracy: 0.3707 \n",
            "\n",
            "Epoch 4/50\n",
            "50000/50000 [==============================] runtime: 3.2744s, loss:1.6642, accuracy: 0.304 \n",
            "\n",
            "Epoch 5/50\n",
            "50000/50000 [==============================] runtime: 3.2933s, loss:1.6441, accuracy: 0.2919 \n",
            "\n",
            "Epoch 6/50\n",
            "50000/50000 [==============================] runtime: 3.3222s, loss:1.634, accuracy: 0.2891 \n",
            "\n",
            "Epoch 7/50\n",
            "50000/50000 [==============================] runtime: 3.3752s, loss:1.628, accuracy: 0.2879 \n",
            "\n",
            "Epoch 8/50\n",
            "50000/50000 [==============================] runtime: 5.7459s, loss:1.621, accuracy: 0.2811 \n",
            "\n",
            "Epoch 9/50\n",
            "50000/50000 [==============================] runtime: 3.3428s, loss:1.6161, accuracy: 0.2867 \n",
            "\n",
            "Epoch 10/50\n",
            "50000/50000 [==============================] runtime: 3.3147s, loss:1.4, accuracy: 0.4055 \n",
            "\n",
            "Epoch 11/50\n",
            "50000/50000 [==============================] runtime: 3.3334s, loss:0.6356, accuracy: 0.8096 \n",
            "\n",
            "Epoch 12/50\n",
            "50000/50000 [==============================] runtime: 3.3435s, loss:0.2363, accuracy: 0.9426 \n",
            "\n",
            "Epoch 13/50\n",
            "50000/50000 [==============================] runtime: 3.3477s, loss:0.1747, accuracy: 0.9573 \n",
            "\n",
            "Epoch 14/50\n",
            "50000/50000 [==============================] runtime: 3.6984s, loss:0.1469, accuracy: 0.9639 \n",
            "\n",
            "Epoch 15/50\n",
            "50000/50000 [==============================] runtime: 3.3409s, loss:0.1285, accuracy: 0.9692 \n",
            "\n",
            "Epoch 16/50\n",
            "50000/50000 [==============================] runtime: 4.1942s, loss:0.1153, accuracy: 0.9728 \n",
            "\n",
            "Epoch 17/50\n",
            "50000/50000 [==============================] runtime: 3.355s, loss:0.1051, accuracy: 0.9751 \n",
            "\n",
            "Epoch 18/50\n",
            "50000/50000 [==============================] runtime: 4.1771s, loss:0.0975, accuracy: 0.9772 \n",
            "\n",
            "Epoch 19/50\n",
            "50000/50000 [==============================] runtime: 3.416s, loss:0.0903, accuracy: 0.9797 \n",
            "\n",
            "Epoch 20/50\n",
            "50000/50000 [==============================] runtime: 4.1101s, loss:0.0856, accuracy: 0.9807 \n",
            "\n",
            "Epoch 21/50\n",
            "50000/50000 [==============================] runtime: 3.3905s, loss:0.0798, accuracy: 0.9817 \n",
            "\n",
            "Epoch 22/50\n",
            "50000/50000 [==============================] runtime: 4.0314s, loss:0.0757, accuracy: 0.9835 \n",
            "\n",
            "Epoch 23/50\n",
            "50000/50000 [==============================] runtime: 3.3746s, loss:0.0715, accuracy: 0.9844 \n",
            "\n",
            "Epoch 24/50\n",
            "50000/50000 [==============================] runtime: 3.5499s, loss:0.0661, accuracy: 0.9864 \n",
            "\n",
            "Epoch 25/50\n",
            "50000/50000 [==============================] runtime: 3.4454s, loss:0.0636, accuracy: 0.9873 \n",
            "\n",
            "Epoch 26/50\n",
            "50000/50000 [==============================] runtime: 3.3946s, loss:0.0596, accuracy: 0.9881 \n",
            "\n",
            "Epoch 27/50\n",
            "50000/50000 [==============================] runtime: 3.4015s, loss:0.0563, accuracy: 0.9893 \n",
            "\n",
            "Epoch 28/50\n",
            "50000/50000 [==============================] runtime: 3.4067s, loss:0.0533, accuracy: 0.9898 \n",
            "\n",
            "Epoch 29/50\n",
            "50000/50000 [==============================] runtime: 3.9042s, loss:0.0512, accuracy: 0.9909 \n",
            "\n",
            "Epoch 30/50\n",
            "50000/50000 [==============================] runtime: 3.4247s, loss:0.0487, accuracy: 0.9913 \n",
            "\n",
            "Epoch 31/50\n",
            "50000/50000 [==============================] runtime: 4.0984s, loss:0.0471, accuracy: 0.9916 \n",
            "\n",
            "Epoch 32/50\n",
            "50000/50000 [==============================] runtime: 3.3449s, loss:0.0445, accuracy: 0.9924 \n",
            "\n",
            "Epoch 33/50\n",
            "50000/50000 [==============================] runtime: 4.1261s, loss:0.0424, accuracy: 0.9929 \n",
            "\n",
            "Epoch 34/50\n",
            "50000/50000 [==============================] runtime: 3.3609s, loss:0.0413, accuracy: 0.9931 \n",
            "\n",
            "Epoch 35/50\n",
            "50000/50000 [==============================] runtime: 4.2658s, loss:0.0387, accuracy: 0.994 \n",
            "\n",
            "Epoch 36/50\n",
            "50000/50000 [==============================] runtime: 3.4391s, loss:0.0384, accuracy: 0.9939 \n",
            "\n",
            "Epoch 37/50\n",
            "50000/50000 [==============================] runtime: 3.9157s, loss:0.0367, accuracy: 0.9943 \n",
            "\n",
            "Epoch 38/50\n",
            "50000/50000 [==============================] runtime: 3.4109s, loss:0.0345, accuracy: 0.9951 \n",
            "\n",
            "Epoch 39/50\n",
            "50000/50000 [==============================] runtime: 3.3791s, loss:0.0347, accuracy: 0.9946 \n",
            "\n",
            "Epoch 40/50\n",
            "50000/50000 [==============================] runtime: 3.4342s, loss:0.0319, accuracy: 0.9956 \n",
            "\n",
            "Epoch 41/50\n",
            "50000/50000 [==============================] runtime: 3.4135s, loss:0.0306, accuracy: 0.9954 \n",
            "\n",
            "Epoch 42/50\n",
            "50000/50000 [==============================] runtime: 3.6239s, loss:0.029, accuracy: 0.9963 \n",
            "\n",
            "Epoch 43/50\n",
            "50000/50000 [==============================] runtime: 3.5456s, loss:0.027, accuracy: 0.9967 \n",
            "\n",
            "Epoch 44/50\n",
            "50000/50000 [==============================] runtime: 4.3413s, loss:0.0268, accuracy: 0.9967 \n",
            "\n",
            "Epoch 45/50\n",
            "50000/50000 [==============================] runtime: 3.4791s, loss:0.0248, accuracy: 0.9973 \n",
            "\n",
            "Epoch 46/50\n",
            "50000/50000 [==============================] runtime: 3.9519s, loss:0.0244, accuracy: 0.9974 \n",
            "\n",
            "Epoch 47/50\n",
            "50000/50000 [==============================] runtime: 3.3218s, loss:0.0239, accuracy: 0.9973 \n",
            "\n",
            "Epoch 48/50\n",
            "50000/50000 [==============================] runtime: 3.8312s, loss:0.024, accuracy: 0.9969 \n",
            "\n",
            "Epoch 49/50\n",
            "50000/50000 [==============================] runtime: 3.4734s, loss:0.0223, accuracy: 0.9978 \n",
            "\n",
            "Epoch 50/50\n",
            "50000/50000 [==============================] runtime: 3.4027s, loss:0.0212, accuracy: 0.9979 \n",
            "\n"
          ]
        }
      ],
      "source": [
        "# build model\n",
        "model = Sequential()\n",
        "model.add(layers.Dense(500, activation=\"relu\", input_shape=784))\n",
        "model.add(layers.Dense(5, activation=\"relu\", kernel_initializer=\"He\"))\n",
        "model.add(layers.Dense(10, activation=\"softmax\"))\n",
        "\n",
        "model.compile(loss=\"categorical_crossentropy\", lr=0.001, optimizer=\"adam\", metric=\"accuracy\")\n",
        "model.fit(partial_train_images_flattened  ,one_hot_partial_train_labels, batch_size=256, epochs=50, validation_data=(val_images_flattened, one_hot_val_labels))"
      ]
    },
    {
      "cell_type": "code",
      "execution_count": null,
      "metadata": {
        "id": "TFPdKZCWeqnL"
      },
      "outputs": [],
      "source": [
        "train_loss = model.history[\"loss\"]\n",
        "train_accuracy = model.history[\"acc\"]\n",
        "validation_loss = model.history[\"val_loss\"]\n",
        "validation_accuracy = model.history[\"val_acc\"]\n",
        "epoch = [i+1 for i in range(len(train_loss))]"
      ]
    },
    {
      "cell_type": "code",
      "execution_count": null,
      "metadata": {
        "colab": {
          "base_uri": "https://localhost:8080/",
          "height": 410
        },
        "id": "qFs8fD3xe6Kj",
        "outputId": "b89eb426-fc3c-42d2-d9d1-991106804412"
      },
      "outputs": [
        {
          "data": {
            "image/png": "[encoded data removed]",
            "text/plain": [
              "<Figure size 500x400 with 1 Axes>"
            ]
          },
          "metadata": {},
          "output_type": "display_data"
        }
      ],
      "source": [
        "plt.figure(figsize=(5,4))\n",
        "plt.plot(epoch, train_loss)\n",
        "plt.plot(epoch, validation_loss)\n",
        "plt.legend([\"loss\", \"validation_loss\"])\n",
        "plt.title(\"Loss vs Epoch\")\n",
        "plt.xlabel(\"Epoch\")\n",
        "plt.ylabel(\"Loss\")\n",
        "plt.show()"
      ]
    },
    {
      "cell_type": "code",
      "execution_count": null,
      "metadata": {
        "colab": {
          "base_uri": "https://localhost:8080/",
          "height": 410
        },
        "id": "GgqCCtMSfNPj",
        "outputId": "cbe26fa1-26ed-4ea3-d668-63da66eb3e0b"
      },
      "outputs": [
        {
          "data": {
            "image/png": "[encoded data removed]",
            "text/plain": [
              "<Figure size 500x400 with 1 Axes>"
            ]
          },
          "metadata": {},
          "output_type": "display_data"
        }
      ],
      "source": [
        "plt.figure(figsize=(5,4))\n",
        "plt.plot(epoch, train_accuracy)\n",
        "plt.plot(epoch, validation_accuracy)\n",
        "plt.legend([\"accuracy\", \"validation_accuracy\"])\n",
        "plt.title(\"Accuracy vs Epoch\")\n",
        "plt.xlabel(\"Epoch\")\n",
        "plt.ylabel(\"Accuracy\")\n",
        "plt.show()"
      ]
    },
    {
      "cell_type": "code",
      "execution_count": 69,
      "metadata": {
        "colab": {
          "base_uri": "https://localhost:8080/"
        },
        "id": "Cv0veh8k7EJe",
        "outputId": "94098f20-43ae-42c5-eaba-e3f9ca167956"
      },
      "outputs": [
        {
          "output_type": "stream",
          "name": "stdout",
          "text": [
            "10000/10000 [==============================] runtime: 0.4913s, loss:0.1568, accuracy: 0.9625\n",
            "[0.1568240154493295, 0.9625]\n"
          ]
        }
      ],
      "source": [
        "model.evaluate(test_images_flattened, one_hot_test_labels)"
      ]
    },
    {
      "cell_type": "code",
      "execution_count": null,
      "metadata": {
        "colab": {
          "base_uri": "https://localhost:8080/",
          "height": 1000
        },
        "id": "ImIp8Q_7M9h9",
        "outputId": "828574f2-d0e7-4093-c9b4-2d9ff0c24c72"
      },
      "outputs": [
        {
          "data": {
            "image/png": "[encoded data removed]",
            "text/plain": [
              "<Figure size 480x480 with 1 Axes>"
            ]
          },
          "metadata": {},
          "output_type": "display_data"
        },
        {
          "data": {
            "image/png": "[encoded data removed]",
            "text/plain": [
              "<Figure size 480x480 with 1 Axes>"
            ]
          },
          "metadata": {},
          "output_type": "display_data"
        },
        {
          "data": {
            "image/png": "[encoded data removed]",
            "text/plain": [
              "<Figure size 480x480 with 1 Axes>"
            ]
          },
          "metadata": {},
          "output_type": "display_data"
        },
        {
          "data": {
            "image/png": "[encoded data removed]",
            "text/plain": [
              "<Figure size 480x480 with 1 Axes>"
            ]
          },
          "metadata": {},
          "output_type": "display_data"
        },
        {
          "data": {
            "image/png": "[encoded data removed]",
            "text/plain": [
              "<Figure size 480x480 with 1 Axes>"
            ]
          },
          "metadata": {},
          "output_type": "display_data"
        },
        {
          "data": {
            "image/png": "[encoded data removed]",
            "text/plain": [
              "<Figure size 480x480 with 1 Axes>"
            ]
          },
          "metadata": {},
          "output_type": "display_data"
        },
        {
          "data": {
            "image/png": "[encoded data removed]",
            "text/plain": [
              "<Figure size 480x480 with 1 Axes>"
            ]
          },
          "metadata": {},
          "output_type": "display_data"
        },
        {
          "data": {
            "image/png": "[encoded data removed]",
            "text/plain": [
              "<Figure size 480x480 with 1 Axes>"
            ]
          },
          "metadata": {},
          "output_type": "display_data"
        },
        {
          "data": {
            "image/png": "[encoded data removed]",
            "text/plain": [
              "<Figure size 480x480 with 1 Axes>"
            ]
          },
          "metadata": {},
          "output_type": "display_data"
        },
        {
          "data": {
            "image/png": "[encoded data removed]",
            "text/plain": [
              "<Figure size 480x480 with 1 Axes>"
            ]
          },
          "metadata": {},
          "output_type": "display_data"
        }
      ],
      "source": [
        "images_labels = []\n",
        "images_idx = []\n",
        "for idx in np.random.randint(0,1000, size=10):\n",
        "  images_labels.append(test_labels[idx])\n",
        "  images_idx.append(idx)\n",
        "  plt.matshow(test_images[idx])\n"
      ]
    },
    {
      "cell_type": "code",
      "execution_count": null,
      "metadata": {
        "colab": {
          "base_uri": "https://localhost:8080/"
        },
        "id": "03CX_m8vE6l9",
        "outputId": "2a4a70b0-29e3-4d08-ea38-e8988d4dc546"
      },
      "outputs": [
        {
          "name": "stdout",
          "output_type": "stream",
          "text": [
            "[3, 3, 6, 0, 1, 9, 9, 1, 9, 2]\n"
          ]
        }
      ],
      "source": [
        "print(images_labels)"
      ]
    },
    {
      "cell_type": "code",
      "execution_count": null,
      "metadata": {
        "colab": {
          "base_uri": "https://localhost:8080/"
        },
        "id": "7l9H6O61-dxA",
        "outputId": "d97cfc21-73bf-432b-f7b7-c2e10fde885c"
      },
      "outputs": [
        {
          "data": {
            "text/plain": [
              "array([[1.37776003e-12, 7.15895272e-11, 5.04386769e-08, ...,\n",
              "        9.99970729e-01, 1.24366065e-16, 1.42381226e-05],\n",
              "       [4.40199355e-05, 1.16191069e-07, 9.91468150e-01, ...,\n",
              "        1.77076020e-08, 4.10645190e-09, 6.27417836e-14],\n",
              "       [2.61850984e-07, 9.99696019e-01, 1.59291488e-05, ...,\n",
              "        1.64990792e-08, 2.24786038e-05, 9.41300560e-11],\n",
              "       ...,\n",
              "       [4.12776603e-08, 2.49295993e-18, 6.19247320e-10, ...,\n",
              "        1.31422729e-08, 4.43842485e-10, 3.61214503e-04],\n",
              "       [4.73749778e-04, 8.93362509e-10, 3.63510913e-06, ...,\n",
              "        2.09306872e-22, 6.29159590e-03, 1.59277921e-21],\n",
              "       [6.90857576e-12, 2.55332680e-08, 2.63163013e-08, ...,\n",
              "        1.28945584e-06, 5.07465434e-17, 2.78738673e-18]])"
            ]
          },
          "execution_count": 26,
          "metadata": {},
          "output_type": "execute_result"
        }
      ],
      "source": [
        "predicted_scores = model.predict(test_images_flattened)\n",
        "predicted_scores"
      ]
    },
    {
      "cell_type": "code",
      "execution_count": null,
      "metadata": {
        "colab": {
          "base_uri": "https://localhost:8080/"
        },
        "id": "-TYE4eoB_sV-",
        "outputId": "e86877b0-3a61-4662-915f-aa28bf3889a3"
      },
      "outputs": [
        {
          "name": "stdout",
          "output_type": "stream",
          "text": [
            "Predicted_value: 3   Actual_value: 3\n",
            "Predicted_value: 3   Actual_value: 3\n",
            "Predicted_value: 6   Actual_value: 6\n",
            "Predicted_value: 0   Actual_value: 0\n",
            "Predicted_value: 1   Actual_value: 1\n",
            "Predicted_value: 9   Actual_value: 9\n",
            "Predicted_value: 9   Actual_value: 9\n",
            "Predicted_value: 1   Actual_value: 1\n",
            "Predicted_value: 9   Actual_value: 9\n",
            "Predicted_value: 2   Actual_value: 2\n"
          ]
        }
      ],
      "source": [
        "for i in images_idx:\n",
        "  print(\"Predicted_value:\", np.argmax(predicted_scores[i]),\"  Actual_value:\", test_labels[i])"
      ]
    },
    {
      "cell_type": "code",
      "execution_count": null,
      "metadata": {
        "colab": {
          "base_uri": "https://localhost:8080/"
        },
        "id": "GJsaYVg6GqYC",
        "outputId": "e3e8dc0c-8199-4420-d16d-15e1aa3649cf"
      },
      "outputs": [
        {
          "data": {
            "text/plain": [
              "<tf.Tensor: shape=(10, 10), dtype=int32, numpy=\n",
              "array([[ 962,    0,    1,    1,    1,    6,    0,    0,    5,    4],\n",
              "       [   0, 1118,    2,    4,    0,    2,    1,    0,    8,    0],\n",
              "       [   7,    0,  999,    9,    1,    1,    2,    2,    9,    2],\n",
              "       [   0,    2,   12,  972,    0,    0,    0,    1,   17,    6],\n",
              "       [   3,    0,    3,    0,  930,    1,    2,    5,    4,   34],\n",
              "       [   3,    1,   17,    2,    1,  828,    5,    0,   34,    1],\n",
              "       [   2,    2,    4,    0,    3,   22,  922,    1,    2,    0],\n",
              "       [   1,    1,   16,   21,    1,    0,    2,  957,    3,   26],\n",
              "       [   1,    0,    2,    5,    0,    4,    0,    0,  954,    8],\n",
              "       [   4,    1,    3,    2,    3,    0,    0,    0,   13,  983]],\n",
              "      dtype=int32)>"
            ]
          },
          "execution_count": 28,
          "metadata": {},
          "output_type": "execute_result"
        }
      ],
      "source": [
        "# confusion matrix\n",
        "predicted_labels = np.array([np.argmax(i) for i in predicted_scores])\n",
        "cm = tf.math.confusion_matrix(labels=test_labels, predictions=predicted_labels)\n",
        "cm"
      ]
    },
    {
      "cell_type": "code",
      "execution_count": null,
      "metadata": {
        "colab": {
          "base_uri": "https://localhost:8080/",
          "height": 388
        },
        "id": "fMAqrrI4HQqV",
        "outputId": "c4a0791e-4964-4be5-db79-e823c666f5be"
      },
      "outputs": [
        {
          "data": {
            "image/png": "[encoded data removed]",
            "text/plain": [
              "<Figure size 500x400 with 2 Axes>"
            ]
          },
          "metadata": {},
          "output_type": "display_data"
        }
      ],
      "source": [
        "plt.figure(figsize=(5,4))\n",
        "sns.heatmap(cm, annot=True, fmt=\"d\")\n",
        "plt.xlabel(\"Predicted Value\")\n",
        "plt.ylabel(\"True Value\")\n",
        "plt.show()"
      ]
    },
    {
      "cell_type": "code",
      "execution_count": null,
      "metadata": {
        "colab": {
          "base_uri": "https://localhost:8080/"
        },
        "id": "Qy6pER9AIch5",
        "outputId": "41ac74bb-7bfe-4896-c763-f0e3a5177d1d"
      },
      "outputs": [
        {
          "name": "stdout",
          "output_type": "stream",
          "text": [
            "              precision    recall  f1-score   support\n",
            "\n",
            "           0       0.98      0.98      0.98       980\n",
            "           1       0.99      0.99      0.99      1135\n",
            "           2       0.94      0.97      0.96      1032\n",
            "           3       0.96      0.96      0.96      1010\n",
            "           4       0.99      0.95      0.97       982\n",
            "           5       0.96      0.93      0.94       892\n",
            "           6       0.99      0.96      0.97       958\n",
            "           7       0.99      0.93      0.96      1028\n",
            "           8       0.91      0.98      0.94       974\n",
            "           9       0.92      0.97      0.95      1009\n",
            "\n",
            "    accuracy                           0.96     10000\n",
            "   macro avg       0.96      0.96      0.96     10000\n",
            "weighted avg       0.96      0.96      0.96     10000\n",
            "\n"
          ]
        }
      ],
      "source": [
        "print(classification_report(test_labels, predicted_labels))"
      ]
    }
  ],
  "metadata": {
    "colab": {
      "provenance": []
    },
    "kernelspec": {
      "display_name": "Python 3",
      "name": "python3"
    },
    "language_info": {
      "name": "python"
    }
  },
  "nbformat": 4,
  "nbformat_minor": 0
}